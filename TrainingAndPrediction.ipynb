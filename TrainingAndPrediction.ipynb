{
 "cells": [
  {
   "cell_type": "code",
   "execution_count": 2,
   "metadata": {},
   "outputs": [],
   "source": [
    "import pandas as pd\n",
    "import numpy as np\n",
    "import cv2\n",
    "import csv\n",
    "from matplotlib import pyplot as plt\n",
    "from sklearn.preprocessing import PolynomialFeatures\n",
    "from sklearn.metrics import r2_score\n",
    "from sklearn import linear_model"
   ]
  },
  {
   "cell_type": "code",
   "execution_count": 3,
   "metadata": {},
   "outputs": [],
   "source": [
    "inputVideo = \"input/13th australia queensland.avi\"\n",
    "inputSyncLog = \"output/13thFinalLog.csv\""
   ]
  },
  {
   "cell_type": "code",
   "execution_count": 5,
   "metadata": {},
   "outputs": [],
   "source": [
    "df = pd.read_csv(inputSyncLog)\n",
    "capVid = cv2.VideoCapture(inputVideo)\n",
    "frame_width = int(capVid.get(3))\n",
    "frame_height = int(capVid.get(4))\n",
    "out = cv2.VideoWriter('output/13thFeatureExtBlackOut.avi', cv2.VideoWriter_fourcc('M','J','P','G'), 9, (1080,480))\n",
    "font = cv2.FONT_HERSHEY_SIMPLEX\n",
    "black = [0,0,0]\n",
    "\n",
    "ret,imgO1 = capVid.read()\n",
    "img1 = imgO1.copy()\n",
    "for x in range(323,323+263):\n",
    "        for y in range(445,445+50):\n",
    "            img1[y,x] = black\n",
    "# initialize counter to update roll, pitch, yaw\n",
    "i = 0\n",
    "\n",
    "list_roll_pitch_yaw = []\n",
    "list_time = []\n",
    "\n",
    "# Initiate ORB detector\n",
    "orb = cv2.ORB_create()\n",
    "    \n",
    "while(1):\n",
    "    frameOrder = 7\n",
    "    for a in range(frameOrder): # 7, 14\n",
    "        ret,imgO2 = capVid.read()\n",
    "    \n",
    "    img2 = imgO2.copy()\n",
    "    for x in range(323,323+263):\n",
    "        for y in range(445,445+50):\n",
    "            img2[y,x] = black\n",
    "            \n",
    "    # find the keypoints and descriptors with ORB\n",
    "    kp1, des1 = orb.detectAndCompute(img1,None)\n",
    "    kp2, des2 = orb.detectAndCompute(img2,None)\n",
    "\n",
    "    # create BFMatcher object\n",
    "    bf = cv2.BFMatcher(cv2.NORM_HAMMING, crossCheck=True)\n",
    "\n",
    "    if kp1 and kp2:\n",
    "        if (len(kp1) > 4 and len(kp2) > 4):\n",
    "            # Match descriptors.\n",
    "            matches = bf.match(des1,des2)\n",
    "\n",
    "            # Sort them in the order of their distance.\n",
    "            matches = sorted(matches, key = lambda x:x.distance)\n",
    "            \n",
    "            roll = df.iloc[i*frameOrder]['roll']\n",
    "            pitch = df.iloc[i*frameOrder]['pitch']\n",
    "            yaw = df.iloc[i*frameOrder]['yaw']\n",
    "            time = df.iloc[i*frameOrder]['time']\n",
    "\n",
    "            rollNext = df.iloc[i*frameOrder + frameOrder]['roll']\n",
    "            pitchNext = df.iloc[i*frameOrder + frameOrder]['pitch']\n",
    "            yawNext = df.iloc[i*frameOrder + frameOrder]['yaw']\n",
    "            \n",
    "            # Initialize lists to store keypoints \n",
    "            list_kp1 = []\n",
    "            list_kp2 = []\n",
    "\n",
    "            # For each match...\n",
    "            for mat in matches:\n",
    "                # Get the matching keypoints for each of the images\n",
    "                img1_idx = mat.queryIdx\n",
    "                img2_idx = mat.trainIdx\n",
    "\n",
    "                # x - columns\n",
    "                # y - rows\n",
    "                # Get the coordinates\n",
    "                (x1, y1) = kp1[img1_idx].pt\n",
    "                (x2, y2) = kp2[img2_idx].pt\n",
    "\n",
    "                # Append to each list\n",
    "                list_kp1.append((x1, y1))\n",
    "                list_kp2.append((x2, y2))\n",
    "    \n",
    "    \n",
    "            startFrame = i*frameOrder\n",
    "            endFrame = i*frameOrder + frameOrder\n",
    "    \n",
    "            list_roll_pitch_yaw_i = [(startFrame, endFrame) + startPt + endPt + (roll, pitch, yaw) + (rollNext, pitchNext, yawNext) for startPt, endPt in zip(list_kp1, list_kp2)]\n",
    "            list_roll_pitch_yaw.extend(list_roll_pitch_yaw_i)\n",
    "        \n",
    "            list_time.append(time)\n",
    "\n",
    "            # for viewing un-comment the following to see top 30 features matching lines, and press escape to close the window\n",
    "            img3 = cv2.drawMatches(img1,kp1,img2,kp2,matches[:], None,flags=2)\n",
    "            imgResize = cv2.resize(img3, (1080, 480))\n",
    "            cv2.putText(imgResize,  \n",
    "                'roll : {:.2f}'.format(roll),  \n",
    "                (50, 60),  \n",
    "                font, 1,  \n",
    "                (0, 255, 255),  \n",
    "                2,  \n",
    "                cv2.LINE_4) \n",
    "            cv2.putText(imgResize,  \n",
    "                'pitch :{:.2f}'.format(pitch),  \n",
    "                (50, 80),  \n",
    "                font, 1,  \n",
    "                (0, 255, 255),  \n",
    "                2,  \n",
    "                cv2.LINE_4) \n",
    "            cv2.putText(imgResize,  \n",
    "                'yaw :{:.2f}'.format(yaw),  \n",
    "                (50, 100),  \n",
    "                font, 1,  \n",
    "                (0, 255, 255),  \n",
    "                2,  \n",
    "                cv2.LINE_4) \n",
    "            cv2.putText(imgResize,  \n",
    "                'time :{}'.format(time),  \n",
    "                (50, 120),  \n",
    "                font, 1,  \n",
    "                (0, 255, 255),  \n",
    "                2,  \n",
    "                cv2.LINE_4) \n",
    "            \n",
    "            out.write(imgResize) \n",
    "            cv2.imshow('Feature Matching',imgResize)\n",
    "    \n",
    "    img1 = img2.copy()\n",
    "    i = i + 1\n",
    "    \n",
    "    k = cv2.waitKey(30) & 0xff\n",
    "    if k == 27:\n",
    "        break\n",
    "    \n",
    "cv2.destroyAllWindows()\n",
    "capVid.release()\n",
    "out.release()"
   ]
  },
  {
   "cell_type": "code",
   "execution_count": 6,
   "metadata": {},
   "outputs": [],
   "source": [
    "list1 = list_time\n",
    "list2 = list_roll_pitch_yaw\n",
    "list3 = zip(list1,list2)"
   ]
  },
  {
   "cell_type": "code",
   "execution_count": 7,
   "metadata": {},
   "outputs": [],
   "source": [
    "with open('output/13thTrainingBlackOut.csv','w') as out:\n",
    "    csv_out=csv.writer(out)\n",
    "    csv_out.writerow(['StartFrame','EndFrame','x1','y1','x2','y2','Roll1','Pitch1','Yaw1', 'Roll2','Pitch2','Yaw2'])\n",
    "    for row in list2:\n",
    "        csv_out.writerow(row)"
   ]
  },
  {
   "cell_type": "code",
   "execution_count": 4,
   "metadata": {},
   "outputs": [
    {
     "data": {
      "text/plain": [
       "(103913, 12)"
      ]
     },
     "execution_count": 4,
     "metadata": {},
     "output_type": "execute_result"
    }
   ],
   "source": [
    "df = pd.read_csv('output/13thTrainingBlackOut.csv')\n",
    "df.shape"
   ]
  },
  {
   "cell_type": "code",
   "execution_count": 9,
   "metadata": {},
   "outputs": [
    {
     "data": {
      "text/html": [
       "<div>\n",
       "<style scoped>\n",
       "    .dataframe tbody tr th:only-of-type {\n",
       "        vertical-align: middle;\n",
       "    }\n",
       "\n",
       "    .dataframe tbody tr th {\n",
       "        vertical-align: top;\n",
       "    }\n",
       "\n",
       "    .dataframe thead th {\n",
       "        text-align: right;\n",
       "    }\n",
       "</style>\n",
       "<table border=\"1\" class=\"dataframe\">\n",
       "  <thead>\n",
       "    <tr style=\"text-align: right;\">\n",
       "      <th></th>\n",
       "      <th>StartFrame</th>\n",
       "      <th>EndFrame</th>\n",
       "      <th>x1</th>\n",
       "      <th>y1</th>\n",
       "      <th>x2</th>\n",
       "      <th>y2</th>\n",
       "      <th>Roll1</th>\n",
       "      <th>Pitch1</th>\n",
       "      <th>Yaw1</th>\n",
       "      <th>Roll2</th>\n",
       "      <th>Pitch2</th>\n",
       "      <th>Yaw2</th>\n",
       "    </tr>\n",
       "  </thead>\n",
       "  <tbody>\n",
       "    <tr>\n",
       "      <th>0</th>\n",
       "      <td>0</td>\n",
       "      <td>7</td>\n",
       "      <td>420.000031</td>\n",
       "      <td>303.600006</td>\n",
       "      <td>420.000031</td>\n",
       "      <td>344.400024</td>\n",
       "      <td>0.003907</td>\n",
       "      <td>0.973236</td>\n",
       "      <td>26.96</td>\n",
       "      <td>0.00165</td>\n",
       "      <td>0.9719</td>\n",
       "      <td>26.96</td>\n",
       "    </tr>\n",
       "    <tr>\n",
       "      <th>1</th>\n",
       "      <td>0</td>\n",
       "      <td>7</td>\n",
       "      <td>570.240051</td>\n",
       "      <td>311.040039</td>\n",
       "      <td>570.240051</td>\n",
       "      <td>350.784027</td>\n",
       "      <td>0.003907</td>\n",
       "      <td>0.973236</td>\n",
       "      <td>26.96</td>\n",
       "      <td>0.00165</td>\n",
       "      <td>0.9719</td>\n",
       "      <td>26.96</td>\n",
       "    </tr>\n",
       "    <tr>\n",
       "      <th>2</th>\n",
       "      <td>0</td>\n",
       "      <td>7</td>\n",
       "      <td>500.000000</td>\n",
       "      <td>31.000000</td>\n",
       "      <td>500.000000</td>\n",
       "      <td>31.000000</td>\n",
       "      <td>0.003907</td>\n",
       "      <td>0.973236</td>\n",
       "      <td>26.96</td>\n",
       "      <td>0.00165</td>\n",
       "      <td>0.9719</td>\n",
       "      <td>26.96</td>\n",
       "    </tr>\n",
       "    <tr>\n",
       "      <th>3</th>\n",
       "      <td>0</td>\n",
       "      <td>7</td>\n",
       "      <td>554.400024</td>\n",
       "      <td>327.600006</td>\n",
       "      <td>554.400024</td>\n",
       "      <td>368.400024</td>\n",
       "      <td>0.003907</td>\n",
       "      <td>0.973236</td>\n",
       "      <td>26.96</td>\n",
       "      <td>0.00165</td>\n",
       "      <td>0.9719</td>\n",
       "      <td>26.96</td>\n",
       "    </tr>\n",
       "    <tr>\n",
       "      <th>4</th>\n",
       "      <td>0</td>\n",
       "      <td>7</td>\n",
       "      <td>230.400009</td>\n",
       "      <td>375.840027</td>\n",
       "      <td>216.000015</td>\n",
       "      <td>420.480011</td>\n",
       "      <td>0.003907</td>\n",
       "      <td>0.973236</td>\n",
       "      <td>26.96</td>\n",
       "      <td>0.00165</td>\n",
       "      <td>0.9719</td>\n",
       "      <td>26.96</td>\n",
       "    </tr>\n",
       "  </tbody>\n",
       "</table>\n",
       "</div>"
      ],
      "text/plain": [
       "   StartFrame  EndFrame          x1          y1          x2          y2  \\\n",
       "0           0         7  420.000031  303.600006  420.000031  344.400024   \n",
       "1           0         7  570.240051  311.040039  570.240051  350.784027   \n",
       "2           0         7  500.000000   31.000000  500.000000   31.000000   \n",
       "3           0         7  554.400024  327.600006  554.400024  368.400024   \n",
       "4           0         7  230.400009  375.840027  216.000015  420.480011   \n",
       "\n",
       "      Roll1    Pitch1   Yaw1    Roll2  Pitch2   Yaw2  \n",
       "0  0.003907  0.973236  26.96  0.00165  0.9719  26.96  \n",
       "1  0.003907  0.973236  26.96  0.00165  0.9719  26.96  \n",
       "2  0.003907  0.973236  26.96  0.00165  0.9719  26.96  \n",
       "3  0.003907  0.973236  26.96  0.00165  0.9719  26.96  \n",
       "4  0.003907  0.973236  26.96  0.00165  0.9719  26.96  "
      ]
     },
     "execution_count": 9,
     "metadata": {},
     "output_type": "execute_result"
    }
   ],
   "source": [
    "df.head()"
   ]
  },
  {
   "cell_type": "code",
   "execution_count": 43,
   "metadata": {},
   "outputs": [
    {
     "data": {
      "text/html": [
       "<div>\n",
       "<style scoped>\n",
       "    .dataframe tbody tr th:only-of-type {\n",
       "        vertical-align: middle;\n",
       "    }\n",
       "\n",
       "    .dataframe tbody tr th {\n",
       "        vertical-align: top;\n",
       "    }\n",
       "\n",
       "    .dataframe thead th {\n",
       "        text-align: right;\n",
       "    }\n",
       "</style>\n",
       "<table border=\"1\" class=\"dataframe\">\n",
       "  <thead>\n",
       "    <tr style=\"text-align: right;\">\n",
       "      <th></th>\n",
       "      <th>StartFrame</th>\n",
       "      <th>EndFrame</th>\n",
       "      <th>x1</th>\n",
       "      <th>y1</th>\n",
       "      <th>x2</th>\n",
       "      <th>y2</th>\n",
       "      <th>Roll1</th>\n",
       "      <th>Pitch1</th>\n",
       "      <th>Yaw1</th>\n",
       "      <th>Roll2</th>\n",
       "      <th>Pitch2</th>\n",
       "      <th>Yaw2</th>\n",
       "    </tr>\n",
       "  </thead>\n",
       "  <tbody>\n",
       "    <tr>\n",
       "      <th>1260079</th>\n",
       "      <td>3107</td>\n",
       "      <td>3108</td>\n",
       "      <td>547.776062</td>\n",
       "      <td>423.360046</td>\n",
       "      <td>547.430481</td>\n",
       "      <td>425.088074</td>\n",
       "      <td>16.31318</td>\n",
       "      <td>-35.23164</td>\n",
       "      <td>343.1633</td>\n",
       "      <td>16.30692</td>\n",
       "      <td>-35.22524</td>\n",
       "      <td>343.11522</td>\n",
       "    </tr>\n",
       "    <tr>\n",
       "      <th>1260080</th>\n",
       "      <td>3107</td>\n",
       "      <td>3108</td>\n",
       "      <td>434.880005</td>\n",
       "      <td>460.800018</td>\n",
       "      <td>434.880005</td>\n",
       "      <td>460.800018</td>\n",
       "      <td>16.31318</td>\n",
       "      <td>-35.23164</td>\n",
       "      <td>343.1633</td>\n",
       "      <td>16.30692</td>\n",
       "      <td>-35.22524</td>\n",
       "      <td>343.11522</td>\n",
       "    </tr>\n",
       "    <tr>\n",
       "      <th>1260081</th>\n",
       "      <td>3107</td>\n",
       "      <td>3108</td>\n",
       "      <td>601.344055</td>\n",
       "      <td>358.732849</td>\n",
       "      <td>601.344055</td>\n",
       "      <td>359.424042</td>\n",
       "      <td>16.31318</td>\n",
       "      <td>-35.23164</td>\n",
       "      <td>343.1633</td>\n",
       "      <td>16.30692</td>\n",
       "      <td>-35.22524</td>\n",
       "      <td>343.11522</td>\n",
       "    </tr>\n",
       "    <tr>\n",
       "      <th>1260082</th>\n",
       "      <td>3107</td>\n",
       "      <td>3108</td>\n",
       "      <td>337.996857</td>\n",
       "      <td>402.278442</td>\n",
       "      <td>338.688019</td>\n",
       "      <td>400.896027</td>\n",
       "      <td>16.31318</td>\n",
       "      <td>-35.23164</td>\n",
       "      <td>343.1633</td>\n",
       "      <td>16.30692</td>\n",
       "      <td>-35.22524</td>\n",
       "      <td>343.11522</td>\n",
       "    </tr>\n",
       "    <tr>\n",
       "      <th>1260083</th>\n",
       "      <td>3107</td>\n",
       "      <td>3108</td>\n",
       "      <td>705.024109</td>\n",
       "      <td>445.824066</td>\n",
       "      <td>705.024048</td>\n",
       "      <td>447.552032</td>\n",
       "      <td>16.31318</td>\n",
       "      <td>-35.23164</td>\n",
       "      <td>343.1633</td>\n",
       "      <td>16.30692</td>\n",
       "      <td>-35.22524</td>\n",
       "      <td>343.11522</td>\n",
       "    </tr>\n",
       "  </tbody>\n",
       "</table>\n",
       "</div>"
      ],
      "text/plain": [
       "         StartFrame  EndFrame          x1          y1          x2          y2  \\\n",
       "1260079        3107      3108  547.776062  423.360046  547.430481  425.088074   \n",
       "1260080        3107      3108  434.880005  460.800018  434.880005  460.800018   \n",
       "1260081        3107      3108  601.344055  358.732849  601.344055  359.424042   \n",
       "1260082        3107      3108  337.996857  402.278442  338.688019  400.896027   \n",
       "1260083        3107      3108  705.024109  445.824066  705.024048  447.552032   \n",
       "\n",
       "            Roll1    Pitch1      Yaw1     Roll2    Pitch2       Yaw2  \n",
       "1260079  16.31318 -35.23164  343.1633  16.30692 -35.22524  343.11522  \n",
       "1260080  16.31318 -35.23164  343.1633  16.30692 -35.22524  343.11522  \n",
       "1260081  16.31318 -35.23164  343.1633  16.30692 -35.22524  343.11522  \n",
       "1260082  16.31318 -35.23164  343.1633  16.30692 -35.22524  343.11522  \n",
       "1260083  16.31318 -35.23164  343.1633  16.30692 -35.22524  343.11522  "
      ]
     },
     "execution_count": 43,
     "metadata": {},
     "output_type": "execute_result"
    }
   ],
   "source": [
    "df.tail()"
   ]
  },
  {
   "cell_type": "code",
   "execution_count": 5,
   "metadata": {},
   "outputs": [],
   "source": [
    "df['dx'] = df['x1']-df['x2']\n",
    "df['dy'] = df['y1']-df['y2']\n",
    "df['deltaRoll'] = df['Roll1'] - df['Roll2']\n",
    "df['deltaPitch'] = df['Pitch1'] - df['Pitch2']\n",
    "df['deltaYaw'] = df['Yaw1'] - df['Yaw2']"
   ]
  },
  {
   "cell_type": "code",
   "execution_count": 45,
   "metadata": {},
   "outputs": [
    {
     "data": {
      "text/html": [
       "<div>\n",
       "<style scoped>\n",
       "    .dataframe tbody tr th:only-of-type {\n",
       "        vertical-align: middle;\n",
       "    }\n",
       "\n",
       "    .dataframe tbody tr th {\n",
       "        vertical-align: top;\n",
       "    }\n",
       "\n",
       "    .dataframe thead th {\n",
       "        text-align: right;\n",
       "    }\n",
       "</style>\n",
       "<table border=\"1\" class=\"dataframe\">\n",
       "  <thead>\n",
       "    <tr style=\"text-align: right;\">\n",
       "      <th></th>\n",
       "      <th>StartFrame</th>\n",
       "      <th>EndFrame</th>\n",
       "      <th>x1</th>\n",
       "      <th>y1</th>\n",
       "      <th>x2</th>\n",
       "      <th>y2</th>\n",
       "      <th>Roll1</th>\n",
       "      <th>Pitch1</th>\n",
       "      <th>Yaw1</th>\n",
       "      <th>Roll2</th>\n",
       "      <th>Pitch2</th>\n",
       "      <th>Yaw2</th>\n",
       "      <th>dx</th>\n",
       "      <th>dy</th>\n",
       "      <th>deltaRoll</th>\n",
       "      <th>deltaPitch</th>\n",
       "      <th>deltaYaw</th>\n",
       "    </tr>\n",
       "  </thead>\n",
       "  <tbody>\n",
       "    <tr>\n",
       "      <th>0</th>\n",
       "      <td>0</td>\n",
       "      <td>1</td>\n",
       "      <td>380.0</td>\n",
       "      <td>460.0</td>\n",
       "      <td>380.0</td>\n",
       "      <td>460.0</td>\n",
       "      <td>0.003907</td>\n",
       "      <td>0.973236</td>\n",
       "      <td>26.96</td>\n",
       "      <td>0.0036</td>\n",
       "      <td>0.973036</td>\n",
       "      <td>26.96</td>\n",
       "      <td>0.0</td>\n",
       "      <td>0.0</td>\n",
       "      <td>0.000307</td>\n",
       "      <td>0.0002</td>\n",
       "      <td>0.0</td>\n",
       "    </tr>\n",
       "    <tr>\n",
       "      <th>1</th>\n",
       "      <td>0</td>\n",
       "      <td>1</td>\n",
       "      <td>387.0</td>\n",
       "      <td>460.0</td>\n",
       "      <td>387.0</td>\n",
       "      <td>460.0</td>\n",
       "      <td>0.003907</td>\n",
       "      <td>0.973236</td>\n",
       "      <td>26.96</td>\n",
       "      <td>0.0036</td>\n",
       "      <td>0.973036</td>\n",
       "      <td>26.96</td>\n",
       "      <td>0.0</td>\n",
       "      <td>0.0</td>\n",
       "      <td>0.000307</td>\n",
       "      <td>0.0002</td>\n",
       "      <td>0.0</td>\n",
       "    </tr>\n",
       "    <tr>\n",
       "      <th>2</th>\n",
       "      <td>0</td>\n",
       "      <td>1</td>\n",
       "      <td>370.0</td>\n",
       "      <td>459.0</td>\n",
       "      <td>370.0</td>\n",
       "      <td>459.0</td>\n",
       "      <td>0.003907</td>\n",
       "      <td>0.973236</td>\n",
       "      <td>26.96</td>\n",
       "      <td>0.0036</td>\n",
       "      <td>0.973036</td>\n",
       "      <td>26.96</td>\n",
       "      <td>0.0</td>\n",
       "      <td>0.0</td>\n",
       "      <td>0.000307</td>\n",
       "      <td>0.0002</td>\n",
       "      <td>0.0</td>\n",
       "    </tr>\n",
       "    <tr>\n",
       "      <th>3</th>\n",
       "      <td>0</td>\n",
       "      <td>1</td>\n",
       "      <td>568.0</td>\n",
       "      <td>459.0</td>\n",
       "      <td>568.0</td>\n",
       "      <td>459.0</td>\n",
       "      <td>0.003907</td>\n",
       "      <td>0.973236</td>\n",
       "      <td>26.96</td>\n",
       "      <td>0.0036</td>\n",
       "      <td>0.973036</td>\n",
       "      <td>26.96</td>\n",
       "      <td>0.0</td>\n",
       "      <td>0.0</td>\n",
       "      <td>0.000307</td>\n",
       "      <td>0.0002</td>\n",
       "      <td>0.0</td>\n",
       "    </tr>\n",
       "    <tr>\n",
       "      <th>4</th>\n",
       "      <td>0</td>\n",
       "      <td>1</td>\n",
       "      <td>373.0</td>\n",
       "      <td>459.0</td>\n",
       "      <td>373.0</td>\n",
       "      <td>459.0</td>\n",
       "      <td>0.003907</td>\n",
       "      <td>0.973236</td>\n",
       "      <td>26.96</td>\n",
       "      <td>0.0036</td>\n",
       "      <td>0.973036</td>\n",
       "      <td>26.96</td>\n",
       "      <td>0.0</td>\n",
       "      <td>0.0</td>\n",
       "      <td>0.000307</td>\n",
       "      <td>0.0002</td>\n",
       "      <td>0.0</td>\n",
       "    </tr>\n",
       "  </tbody>\n",
       "</table>\n",
       "</div>"
      ],
      "text/plain": [
       "   StartFrame  EndFrame     x1     y1     x2     y2     Roll1    Pitch1  \\\n",
       "0           0         1  380.0  460.0  380.0  460.0  0.003907  0.973236   \n",
       "1           0         1  387.0  460.0  387.0  460.0  0.003907  0.973236   \n",
       "2           0         1  370.0  459.0  370.0  459.0  0.003907  0.973236   \n",
       "3           0         1  568.0  459.0  568.0  459.0  0.003907  0.973236   \n",
       "4           0         1  373.0  459.0  373.0  459.0  0.003907  0.973236   \n",
       "\n",
       "    Yaw1   Roll2    Pitch2   Yaw2   dx   dy  deltaRoll  deltaPitch  deltaYaw  \n",
       "0  26.96  0.0036  0.973036  26.96  0.0  0.0   0.000307      0.0002       0.0  \n",
       "1  26.96  0.0036  0.973036  26.96  0.0  0.0   0.000307      0.0002       0.0  \n",
       "2  26.96  0.0036  0.973036  26.96  0.0  0.0   0.000307      0.0002       0.0  \n",
       "3  26.96  0.0036  0.973036  26.96  0.0  0.0   0.000307      0.0002       0.0  \n",
       "4  26.96  0.0036  0.973036  26.96  0.0  0.0   0.000307      0.0002       0.0  "
      ]
     },
     "execution_count": 45,
     "metadata": {},
     "output_type": "execute_result"
    }
   ],
   "source": [
    "df.head()"
   ]
  },
  {
   "cell_type": "code",
   "execution_count": 46,
   "metadata": {},
   "outputs": [
    {
     "data": {
      "text/html": [
       "<div>\n",
       "<style scoped>\n",
       "    .dataframe tbody tr th:only-of-type {\n",
       "        vertical-align: middle;\n",
       "    }\n",
       "\n",
       "    .dataframe tbody tr th {\n",
       "        vertical-align: top;\n",
       "    }\n",
       "\n",
       "    .dataframe thead th {\n",
       "        text-align: right;\n",
       "    }\n",
       "</style>\n",
       "<table border=\"1\" class=\"dataframe\">\n",
       "  <thead>\n",
       "    <tr style=\"text-align: right;\">\n",
       "      <th></th>\n",
       "      <th>StartFrame</th>\n",
       "      <th>EndFrame</th>\n",
       "      <th>x1</th>\n",
       "      <th>y1</th>\n",
       "      <th>x2</th>\n",
       "      <th>y2</th>\n",
       "      <th>Roll1</th>\n",
       "      <th>Pitch1</th>\n",
       "      <th>Yaw1</th>\n",
       "      <th>Roll2</th>\n",
       "      <th>Pitch2</th>\n",
       "      <th>Yaw2</th>\n",
       "      <th>dx</th>\n",
       "      <th>dy</th>\n",
       "      <th>deltaRoll</th>\n",
       "      <th>deltaPitch</th>\n",
       "      <th>deltaYaw</th>\n",
       "    </tr>\n",
       "  </thead>\n",
       "  <tbody>\n",
       "    <tr>\n",
       "      <th>1260079</th>\n",
       "      <td>3107</td>\n",
       "      <td>3108</td>\n",
       "      <td>547.776062</td>\n",
       "      <td>423.360046</td>\n",
       "      <td>547.430481</td>\n",
       "      <td>425.088074</td>\n",
       "      <td>16.31318</td>\n",
       "      <td>-35.23164</td>\n",
       "      <td>343.1633</td>\n",
       "      <td>16.30692</td>\n",
       "      <td>-35.22524</td>\n",
       "      <td>343.11522</td>\n",
       "      <td>0.345581</td>\n",
       "      <td>-1.728027</td>\n",
       "      <td>0.00626</td>\n",
       "      <td>-0.0064</td>\n",
       "      <td>0.04808</td>\n",
       "    </tr>\n",
       "    <tr>\n",
       "      <th>1260080</th>\n",
       "      <td>3107</td>\n",
       "      <td>3108</td>\n",
       "      <td>434.880005</td>\n",
       "      <td>460.800018</td>\n",
       "      <td>434.880005</td>\n",
       "      <td>460.800018</td>\n",
       "      <td>16.31318</td>\n",
       "      <td>-35.23164</td>\n",
       "      <td>343.1633</td>\n",
       "      <td>16.30692</td>\n",
       "      <td>-35.22524</td>\n",
       "      <td>343.11522</td>\n",
       "      <td>0.000000</td>\n",
       "      <td>0.000000</td>\n",
       "      <td>0.00626</td>\n",
       "      <td>-0.0064</td>\n",
       "      <td>0.04808</td>\n",
       "    </tr>\n",
       "    <tr>\n",
       "      <th>1260081</th>\n",
       "      <td>3107</td>\n",
       "      <td>3108</td>\n",
       "      <td>601.344055</td>\n",
       "      <td>358.732849</td>\n",
       "      <td>601.344055</td>\n",
       "      <td>359.424042</td>\n",
       "      <td>16.31318</td>\n",
       "      <td>-35.23164</td>\n",
       "      <td>343.1633</td>\n",
       "      <td>16.30692</td>\n",
       "      <td>-35.22524</td>\n",
       "      <td>343.11522</td>\n",
       "      <td>0.000000</td>\n",
       "      <td>-0.691193</td>\n",
       "      <td>0.00626</td>\n",
       "      <td>-0.0064</td>\n",
       "      <td>0.04808</td>\n",
       "    </tr>\n",
       "    <tr>\n",
       "      <th>1260082</th>\n",
       "      <td>3107</td>\n",
       "      <td>3108</td>\n",
       "      <td>337.996857</td>\n",
       "      <td>402.278442</td>\n",
       "      <td>338.688019</td>\n",
       "      <td>400.896027</td>\n",
       "      <td>16.31318</td>\n",
       "      <td>-35.23164</td>\n",
       "      <td>343.1633</td>\n",
       "      <td>16.30692</td>\n",
       "      <td>-35.22524</td>\n",
       "      <td>343.11522</td>\n",
       "      <td>-0.691162</td>\n",
       "      <td>1.382416</td>\n",
       "      <td>0.00626</td>\n",
       "      <td>-0.0064</td>\n",
       "      <td>0.04808</td>\n",
       "    </tr>\n",
       "    <tr>\n",
       "      <th>1260083</th>\n",
       "      <td>3107</td>\n",
       "      <td>3108</td>\n",
       "      <td>705.024109</td>\n",
       "      <td>445.824066</td>\n",
       "      <td>705.024048</td>\n",
       "      <td>447.552032</td>\n",
       "      <td>16.31318</td>\n",
       "      <td>-35.23164</td>\n",
       "      <td>343.1633</td>\n",
       "      <td>16.30692</td>\n",
       "      <td>-35.22524</td>\n",
       "      <td>343.11522</td>\n",
       "      <td>0.000061</td>\n",
       "      <td>-1.727966</td>\n",
       "      <td>0.00626</td>\n",
       "      <td>-0.0064</td>\n",
       "      <td>0.04808</td>\n",
       "    </tr>\n",
       "  </tbody>\n",
       "</table>\n",
       "</div>"
      ],
      "text/plain": [
       "         StartFrame  EndFrame          x1          y1          x2          y2  \\\n",
       "1260079        3107      3108  547.776062  423.360046  547.430481  425.088074   \n",
       "1260080        3107      3108  434.880005  460.800018  434.880005  460.800018   \n",
       "1260081        3107      3108  601.344055  358.732849  601.344055  359.424042   \n",
       "1260082        3107      3108  337.996857  402.278442  338.688019  400.896027   \n",
       "1260083        3107      3108  705.024109  445.824066  705.024048  447.552032   \n",
       "\n",
       "            Roll1    Pitch1      Yaw1     Roll2    Pitch2       Yaw2  \\\n",
       "1260079  16.31318 -35.23164  343.1633  16.30692 -35.22524  343.11522   \n",
       "1260080  16.31318 -35.23164  343.1633  16.30692 -35.22524  343.11522   \n",
       "1260081  16.31318 -35.23164  343.1633  16.30692 -35.22524  343.11522   \n",
       "1260082  16.31318 -35.23164  343.1633  16.30692 -35.22524  343.11522   \n",
       "1260083  16.31318 -35.23164  343.1633  16.30692 -35.22524  343.11522   \n",
       "\n",
       "               dx        dy  deltaRoll  deltaPitch  deltaYaw  \n",
       "1260079  0.345581 -1.728027    0.00626     -0.0064   0.04808  \n",
       "1260080  0.000000  0.000000    0.00626     -0.0064   0.04808  \n",
       "1260081  0.000000 -0.691193    0.00626     -0.0064   0.04808  \n",
       "1260082 -0.691162  1.382416    0.00626     -0.0064   0.04808  \n",
       "1260083  0.000061 -1.727966    0.00626     -0.0064   0.04808  "
      ]
     },
     "execution_count": 46,
     "metadata": {},
     "output_type": "execute_result"
    }
   ],
   "source": [
    "df.tail()"
   ]
  },
  {
   "cell_type": "code",
   "execution_count": 51,
   "metadata": {},
   "outputs": [
    {
     "data": {
      "text/plain": [
       "<matplotlib.axes._subplots.AxesSubplot at 0x203b65d5b80>"
      ]
     },
     "execution_count": 51,
     "metadata": {},
     "output_type": "execute_result"
    },
    {
     "data": {
      "image/png": "[encoded data removed]",
      "text/plain": [
       "<Figure size 432x288 with 1 Axes>"
      ]
     },
     "metadata": {
      "needs_background": "light"
     },
     "output_type": "display_data"
    }
   ],
   "source": [
    "#df.boxplot(column=['dx','dy'])\n",
    "df.boxplot(column=['deltaRoll', 'deltaPitch', 'deltaYaw'])"
   ]
  },
  {
   "cell_type": "code",
   "execution_count": 25,
   "metadata": {},
   "outputs": [
    {
     "data": {
      "image/png": "[encoded data removed]",
      "text/plain": [
       "<Figure size 432x288 with 1 Axes>"
      ]
     },
     "metadata": {
      "needs_background": "light"
     },
     "output_type": "display_data"
    }
   ],
   "source": [
    "plt.scatter([df.dx], [df.deltaYaw],  color='blue')\n",
    "plt.xlabel(\"Movement in x direction\")\n",
    "plt.ylabel(\"Yaw\")\n",
    "plt.show()"
   ]
  },
  {
   "cell_type": "code",
   "execution_count": 23,
   "metadata": {},
   "outputs": [
    {
     "data": {
      "image/png": "[encoded data removed]",
      "text/plain": [
       "<Figure size 432x288 with 1 Axes>"
      ]
     },
     "metadata": {
      "needs_background": "light"
     },
     "output_type": "display_data"
    }
   ],
   "source": [
    "plt.scatter([df.dy], [df.deltaYaw],  color='blue')\n",
    "plt.xlabel(\"Movement in y direction\")\n",
    "plt.ylabel(\"Yaw\")\n",
    "plt.show()"
   ]
  },
  {
   "cell_type": "code",
   "execution_count": 26,
   "metadata": {},
   "outputs": [
    {
     "data": {
      "image/png": "[encoded data removed]",
      "text/plain": [
       "<Figure size 432x288 with 1 Axes>"
      ]
     },
     "metadata": {
      "needs_background": "light"
     },
     "output_type": "display_data"
    }
   ],
   "source": [
    "plt.scatter([df.dy], [df.deltaPitch],  color='blue')\n",
    "plt.xlabel(\"Movement in y direction\")\n",
    "plt.ylabel(\"Pitch\")\n",
    "plt.show()"
   ]
  },
  {
   "cell_type": "code",
   "execution_count": 39,
   "metadata": {},
   "outputs": [
    {
     "data": {
      "image/png": "[encoded data removed]",
      "text/plain": [
       "<Figure size 432x288 with 1 Axes>"
      ]
     },
     "metadata": {
      "needs_background": "light"
     },
     "output_type": "display_data"
    }
   ],
   "source": [
    "plt.scatter([df.dx], [df.deltaPitch],  color='blue')\n",
    "plt.xlabel(\"Movement in x direction\")\n",
    "plt.ylabel(\"Pitch\")\n",
    "plt.show()"
   ]
  },
  {
   "cell_type": "code",
   "execution_count": 28,
   "metadata": {},
   "outputs": [
    {
     "data": {
      "image/png": "[encoded data removed]",
      "text/plain": [
       "<Figure size 432x288 with 1 Axes>"
      ]
     },
     "metadata": {
      "needs_background": "light"
     },
     "output_type": "display_data"
    }
   ],
   "source": [
    "plt.scatter([df.dx], [df.deltaRoll],  color='blue')\n",
    "plt.xlabel(\"Movement in x direction\")\n",
    "plt.ylabel(\"Roll\")\n",
    "plt.show()"
   ]
  },
  {
   "cell_type": "code",
   "execution_count": 29,
   "metadata": {},
   "outputs": [
    {
     "data": {
      "image/png": "[encoded data removed]",
      "text/plain": [
       "<Figure size 432x288 with 1 Axes>"
      ]
     },
     "metadata": {
      "needs_background": "light"
     },
     "output_type": "display_data"
    }
   ],
   "source": [
    "plt.scatter([df.dy], [df.deltaRoll],  color='blue')\n",
    "plt.xlabel(\"Movement in y direction\")\n",
    "plt.ylabel(\"Roll\")\n",
    "plt.show()"
   ]
  },
  {
   "cell_type": "code",
   "execution_count": 66,
   "metadata": {},
   "outputs": [],
   "source": []
  },
  {
   "cell_type": "code",
   "execution_count": null,
   "metadata": {},
   "outputs": [],
   "source": []
  },
  {
   "cell_type": "code",
   "execution_count": 81,
   "metadata": {},
   "outputs": [
    {
     "name": "stdout",
     "output_type": "stream",
     "text": [
      "Mean absolute error: 1.31\n",
      "Residual sum of squares (MSE): 4.66\n",
      "R2-score: -60.78\n"
     ]
    }
   ],
   "source": [
    "msk = np.random.rand(len(df)) < 0.8\n",
    "train = df[msk]\n",
    "test = df[~msk]\n",
    "train_x = np.asanyarray(train[['dx', 'dy']])\n",
    "train_y = np.asanyarray(train[['deltaPitch']])\n",
    "\n",
    "test_x = np.asanyarray(test[['dx', 'dy']])\n",
    "test_y = np.asanyarray(test[['deltaPitch']])\n",
    "\n",
    "\n",
    "poly3 = PolynomialFeatures(degree=20)\n",
    "train_x_poly3 = poly3.fit_transform(train_x)\n",
    "model3 = linear_model.LinearRegression()\n",
    "train_y3_ = model3.fit(train_x_poly3, train_y)\n",
    "# The coefficients\n",
    "#print ('Coefficients: ', model3.coef_)\n",
    "#print ('Intercept: ',model3.intercept_)\n",
    "test_x_poly3 = poly3.fit_transform(test_x)\n",
    "test_y3_ = model3.predict(test_x_poly3)\n",
    "\n",
    "# evaluation\n",
    "print(\"Mean absolute error: %.2f\" % np.mean(np.absolute(test_y3_ - test_y)))\n",
    "print(\"Residual sum of squares (MSE): %.2f\" % np.mean((test_y3_ - test_y) ** 2))\n",
    "print(\"R2-score: %.2f\" % r2_score(test_y3_ , test_y) )"
   ]
  },
  {
   "cell_type": "code",
   "execution_count": 58,
   "metadata": {},
   "outputs": [],
   "source": [
    "from sklearn.linear_model import Lasso\n",
    "from sklearn.model_selection import GridSearchCV"
   ]
  },
  {
   "cell_type": "code",
   "execution_count": 82,
   "metadata": {},
   "outputs": [
    {
     "name": "stdout",
     "output_type": "stream",
     "text": [
      "{'alpha': 0.0004}\n",
      "-4.691803185967309\n"
     ]
    }
   ],
   "source": [
    "lasso = Lasso()\n",
    "parameters = {'alpha':np.linspace(0.0001, 0.0004, 10)}\n",
    "lasso_regressor = GridSearchCV(lasso,parameters,scoring='neg_mean_squared_error',cv=10)\n",
    "lasso_regressor.fit(train_x, train_y)\n",
    "print(lasso_regressor.best_params_)\n",
    "print(lasso_regressor.best_score_)"
   ]
  },
  {
   "cell_type": "code",
   "execution_count": null,
   "metadata": {},
   "outputs": [],
   "source": []
  },
  {
   "cell_type": "code",
   "execution_count": 83,
   "metadata": {},
   "outputs": [
    {
     "name": "stdout",
     "output_type": "stream",
     "text": [
      "<bound method RegressorMixin.score of Lasso(alpha=0.0004)>\n"
     ]
    }
   ],
   "source": [
    "from sklearn.model_selection import train_test_split\n",
    "from sklearn.preprocessing import StandardScaler\n",
    "from sklearn.linear_model import Lasso\n",
    "from sklearn.metrics import r2_score\n",
    "from sklearn.model_selection import GridSearchCV\n",
    "\n",
    "X = np.asanyarray(df[['dx', 'dy']])\n",
    "y = np.asanyarray(df[['deltaPitch']])\n",
    "\n",
    "X_train, X_test, y_train, y_test = train_test_split(X, y, test_size=0.3, random_state=0)\n",
    "sc_x = StandardScaler()\n",
    "sc_y = StandardScaler()\n",
    "#y_std = sc_y.fit_transform(y_train[:, np.newaxis]).flatten()\n",
    "y_train_std = sc_y.fit_transform(y_train)\n",
    "X_train_std = sc_x.fit_transform(X_train)\n",
    "X_test_std = sc_x.fit_transform(X_test)\n",
    "\n",
    "r2_train = []\n",
    "r2_test = []\n",
    "norm = []\n",
    "\n",
    "#alpha = np.linspace(0.0005, 0.001, 10)\n",
    "alpha = np.linspace(0.00008, 0.0004, 30)\n",
    "\n",
    "for i in range(30):\n",
    "    lasso = Lasso(alpha = alpha[i])\n",
    "    lasso.fit(X_train_std, y_train_std)\n",
    "    y_train_std = lasso.predict(X_train_std)\n",
    "    y_test_std = lasso.predict(X_test_std)\n",
    "    r2_train = np.append(r2_train, r2_score(y_train, sc_y.inverse_transform(y_train_std)))\n",
    "    r2_test = np.append(r2_test, r2_score(y_test, sc_y.inverse_transform(y_test_std)))\n",
    "    norm = np.append(norm, np.linalg.norm(lasso.coef_))\n",
    "    \n",
    "#print(lasso.best_params_)\n",
    "print(lasso.score)"
   ]
  },
  {
   "cell_type": "code",
   "execution_count": 84,
   "metadata": {},
   "outputs": [
    {
     "name": "stdout",
     "output_type": "stream",
     "text": [
      "0.0007763320698390697\n"
     ]
    }
   ],
   "source": [
    "print(r2_test[0])"
   ]
  },
  {
   "cell_type": "code",
   "execution_count": 85,
   "metadata": {},
   "outputs": [
    {
     "data": {
      "text/plain": [
       "[<matplotlib.lines.Line2D at 0x1c516c89a60>]"
      ]
     },
     "execution_count": 85,
     "metadata": {},
     "output_type": "execute_result"
    },
    {
     "data": {
      "image/png": "[encoded data removed]",
      "text/plain": [
       "<Figure size 432x288 with 1 Axes>"
      ]
     },
     "metadata": {
      "needs_background": "light"
     },
     "output_type": "display_data"
    }
   ],
   "source": [
    "plt.scatter(alpha, r2_train, label='r2_train')\n",
    "plt.plot(alpha, r2_train)\n",
    "plt.scatter(alpha, r2_test, label='r2_test')\n",
    "plt.plot(alpha, r2_test)\n",
    "#plt.scatter(alpha, norm, label='norm')\n",
    "#plt.plot(alpha, norm)"
   ]
  },
  {
   "cell_type": "code",
   "execution_count": null,
   "metadata": {},
   "outputs": [],
   "source": []
  },
  {
   "cell_type": "code",
   "execution_count": null,
   "metadata": {},
   "outputs": [],
   "source": []
  },
  {
   "cell_type": "code",
   "execution_count": null,
   "metadata": {},
   "outputs": [],
   "source": []
  }
 ],
 "metadata": {
  "kernelspec": {
   "display_name": "Python 3",
   "language": "python",
   "name": "python3"
  },
  "language_info": {
   "codemirror_mode": {
    "name": "ipython",
    "version": 3
   },
   "file_extension": ".py",
   "mimetype": "text/x-python",
   "name": "python",
   "nbconvert_exporter": "python",
   "pygments_lexer": "ipython3",
   "version": "3.8.3"
  }
 },
 "nbformat": 4,
 "nbformat_minor": 4
}
