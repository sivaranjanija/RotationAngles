{
 "cells": [
  {
   "cell_type": "code",
   "execution_count": 1,
   "metadata": {},
   "outputs": [],
   "source": [
    "import pandas as pd\n",
    "import numpy as np\n",
    "import csv\n",
    "from matplotlib import pyplot as plt\n",
    "import cv2 "
   ]
  },
  {
   "cell_type": "code",
   "execution_count": 2,
   "metadata": {},
   "outputs": [],
   "source": [
    "log = 'output/13thSyncFinal.csv'\n",
    "video = 'input/13th australia queensland.avi'\n",
    "outlog = 'output/13th 9 australia queensland.csv'\n",
    "outvideo = 'output/13thaustralia queensland.avi'\n",
    "framesPerSec = 9"
   ]
  },
  {
   "cell_type": "code",
   "execution_count": 22,
   "metadata": {},
   "outputs": [
    {
     "name": "stdout",
     "output_type": "stream",
     "text": [
      "4395\n"
     ]
    }
   ],
   "source": [
    "capVid = cv2.VideoCapture(video)\n",
    "frames = int(capVid.get(cv2.CAP_PROP_FRAME_COUNT))\n",
    "print(frames)"
   ]
  },
  {
   "cell_type": "code",
   "execution_count": 23,
   "metadata": {},
   "outputs": [
    {
     "name": "stdout",
     "output_type": "stream",
     "text": [
      "12.008196721311476\n"
     ]
    }
   ],
   "source": [
    "offset = 0\n",
    "time = 6 * 60 + 6\n",
    "framesPerSec = (frames / time) + offset\n",
    "print(framesPerSec)"
   ]
  },
  {
   "cell_type": "code",
   "execution_count": 54,
   "metadata": {},
   "outputs": [
    {
     "data": {
      "text/plain": [
       "(21689, 8)"
      ]
     },
     "execution_count": 54,
     "metadata": {},
     "output_type": "execute_result"
    }
   ],
   "source": [
    "df = pd.read_csv('input/13th australia queensland.csv', names=[\"P3D\", \"date time\", \"pitch\", \"yaw\", \"roll\", \"speed\", \"altitude\"])\n",
    "df.head()\n",
    "df['time'] = df['date time'].str[12:-4]\n",
    "df.shape"
   ]
  },
  {
   "cell_type": "code",
   "execution_count": 55,
   "metadata": {},
   "outputs": [
    {
     "data": {
      "text/html": [
       "<div>\n",
       "<style scoped>\n",
       "    .dataframe tbody tr th:only-of-type {\n",
       "        vertical-align: middle;\n",
       "    }\n",
       "\n",
       "    .dataframe tbody tr th {\n",
       "        vertical-align: top;\n",
       "    }\n",
       "\n",
       "    .dataframe thead th {\n",
       "        text-align: right;\n",
       "    }\n",
       "</style>\n",
       "<table border=\"1\" class=\"dataframe\">\n",
       "  <thead>\n",
       "    <tr style=\"text-align: right;\">\n",
       "      <th></th>\n",
       "      <th>index</th>\n",
       "      <th>count</th>\n",
       "    </tr>\n",
       "  </thead>\n",
       "  <tbody>\n",
       "    <tr>\n",
       "      <th>0</th>\n",
       "      <td>11:16:54</td>\n",
       "      <td>56</td>\n",
       "    </tr>\n",
       "    <tr>\n",
       "      <th>1</th>\n",
       "      <td>11:16:55</td>\n",
       "      <td>59</td>\n",
       "    </tr>\n",
       "    <tr>\n",
       "      <th>2</th>\n",
       "      <td>11:16:56</td>\n",
       "      <td>61</td>\n",
       "    </tr>\n",
       "    <tr>\n",
       "      <th>3</th>\n",
       "      <td>11:16:57</td>\n",
       "      <td>59</td>\n",
       "    </tr>\n",
       "    <tr>\n",
       "      <th>4</th>\n",
       "      <td>11:16:58</td>\n",
       "      <td>58</td>\n",
       "    </tr>\n",
       "  </tbody>\n",
       "</table>\n",
       "</div>"
      ],
      "text/plain": [
       "      index  count\n",
       "0  11:16:54     56\n",
       "1  11:16:55     59\n",
       "2  11:16:56     61\n",
       "3  11:16:57     59\n",
       "4  11:16:58     58"
      ]
     },
     "execution_count": 55,
     "metadata": {},
     "output_type": "execute_result"
    }
   ],
   "source": [
    "df_count = df['time'].value_counts().sort_index()\n",
    "df_count = df_count.to_frame().reset_index()\n",
    "df_count.head()\n",
    "dfOut = df.copy()\n",
    "df_count.rename(columns={\"index\": \"index\", \"time\": \"count\"}, inplace=True)\n",
    "df_count.head()"
   ]
  },
  {
   "cell_type": "code",
   "execution_count": 76,
   "metadata": {},
   "outputs": [
    {
     "data": {
      "text/html": [
       "<div>\n",
       "<style scoped>\n",
       "    .dataframe tbody tr th:only-of-type {\n",
       "        vertical-align: middle;\n",
       "    }\n",
       "\n",
       "    .dataframe tbody tr th {\n",
       "        vertical-align: top;\n",
       "    }\n",
       "\n",
       "    .dataframe thead th {\n",
       "        text-align: right;\n",
       "    }\n",
       "</style>\n",
       "<table border=\"1\" class=\"dataframe\">\n",
       "  <thead>\n",
       "    <tr style=\"text-align: right;\">\n",
       "      <th></th>\n",
       "      <th>index</th>\n",
       "      <th>count</th>\n",
       "      <th>fps</th>\n",
       "      <th>every</th>\n",
       "    </tr>\n",
       "  </thead>\n",
       "  <tbody>\n",
       "    <tr>\n",
       "      <th>0</th>\n",
       "      <td>11:16:54</td>\n",
       "      <td>56</td>\n",
       "      <td>4.0</td>\n",
       "      <td>14.0</td>\n",
       "    </tr>\n",
       "    <tr>\n",
       "      <th>1</th>\n",
       "      <td>11:16:55</td>\n",
       "      <td>59</td>\n",
       "      <td>9.0</td>\n",
       "      <td>6.0</td>\n",
       "    </tr>\n",
       "    <tr>\n",
       "      <th>2</th>\n",
       "      <td>11:16:56</td>\n",
       "      <td>61</td>\n",
       "      <td>9.0</td>\n",
       "      <td>6.0</td>\n",
       "    </tr>\n",
       "    <tr>\n",
       "      <th>3</th>\n",
       "      <td>11:16:57</td>\n",
       "      <td>59</td>\n",
       "      <td>9.0</td>\n",
       "      <td>6.0</td>\n",
       "    </tr>\n",
       "    <tr>\n",
       "      <th>4</th>\n",
       "      <td>11:16:58</td>\n",
       "      <td>58</td>\n",
       "      <td>10.0</td>\n",
       "      <td>5.0</td>\n",
       "    </tr>\n",
       "    <tr>\n",
       "      <th>...</th>\n",
       "      <td>...</td>\n",
       "      <td>...</td>\n",
       "      <td>...</td>\n",
       "      <td>...</td>\n",
       "    </tr>\n",
       "    <tr>\n",
       "      <th>362</th>\n",
       "      <td>11:22:56</td>\n",
       "      <td>60</td>\n",
       "      <td>8.0</td>\n",
       "      <td>7.0</td>\n",
       "    </tr>\n",
       "    <tr>\n",
       "      <th>363</th>\n",
       "      <td>11:22:57</td>\n",
       "      <td>60</td>\n",
       "      <td>10.0</td>\n",
       "      <td>6.0</td>\n",
       "    </tr>\n",
       "    <tr>\n",
       "      <th>364</th>\n",
       "      <td>11:22:58</td>\n",
       "      <td>60</td>\n",
       "      <td>7.0</td>\n",
       "      <td>8.0</td>\n",
       "    </tr>\n",
       "    <tr>\n",
       "      <th>365</th>\n",
       "      <td>11:22:59</td>\n",
       "      <td>60</td>\n",
       "      <td>7.0</td>\n",
       "      <td>8.0</td>\n",
       "    </tr>\n",
       "    <tr>\n",
       "      <th>366</th>\n",
       "      <td>11:23:00</td>\n",
       "      <td>2</td>\n",
       "      <td>7.0</td>\n",
       "      <td>0.0</td>\n",
       "    </tr>\n",
       "  </tbody>\n",
       "</table>\n",
       "<p>367 rows × 4 columns</p>\n",
       "</div>"
      ],
      "text/plain": [
       "        index  count   fps  every\n",
       "0    11:16:54     56   4.0   14.0\n",
       "1    11:16:55     59   9.0    6.0\n",
       "2    11:16:56     61   9.0    6.0\n",
       "3    11:16:57     59   9.0    6.0\n",
       "4    11:16:58     58  10.0    5.0\n",
       "..        ...    ...   ...    ...\n",
       "362  11:22:56     60   8.0    7.0\n",
       "363  11:22:57     60  10.0    6.0\n",
       "364  11:22:58     60   7.0    8.0\n",
       "365  11:22:59     60   7.0    8.0\n",
       "366  11:23:00      2   7.0    0.0\n",
       "\n",
       "[367 rows x 4 columns]"
      ]
     },
     "execution_count": 76,
     "metadata": {},
     "output_type": "execute_result"
    }
   ],
   "source": [
    "dfSync = pd.read_csv(log)\n",
    "df_fps = dfSync['SyncTime'].value_counts().sort_index()\n",
    "df_fps = df_fps.to_frame().reset_index()\n",
    "df_count['fps'] = df_fps['SyncTime']\n",
    "new_df = pd.DataFrame({'fps': [7]}, index=[366])\n",
    "df_count.update(new_df)\n",
    "df_count['every'] = df_count['count']//df_count['fps']\n",
    "df_count"
   ]
  },
  {
   "cell_type": "code",
   "execution_count": 67,
   "metadata": {},
   "outputs": [
    {
     "data": {
      "text/html": [
       "<div>\n",
       "<style scoped>\n",
       "    .dataframe tbody tr th:only-of-type {\n",
       "        vertical-align: middle;\n",
       "    }\n",
       "\n",
       "    .dataframe tbody tr th {\n",
       "        vertical-align: top;\n",
       "    }\n",
       "\n",
       "    .dataframe thead th {\n",
       "        text-align: right;\n",
       "    }\n",
       "</style>\n",
       "<table border=\"1\" class=\"dataframe\">\n",
       "  <thead>\n",
       "    <tr style=\"text-align: right;\">\n",
       "      <th></th>\n",
       "      <th>P3D</th>\n",
       "      <th>date time</th>\n",
       "      <th>pitch</th>\n",
       "      <th>yaw</th>\n",
       "      <th>roll</th>\n",
       "      <th>speed</th>\n",
       "      <th>altitude</th>\n",
       "      <th>time</th>\n",
       "    </tr>\n",
       "  </thead>\n",
       "  <tbody>\n",
       "    <tr>\n",
       "      <th>21684</th>\n",
       "      <td>P3D</td>\n",
       "      <td>2020-08-09 11:22:59:775</td>\n",
       "      <td>8.6453</td>\n",
       "      <td>340.3289</td>\n",
       "      <td>5.8017</td>\n",
       "      <td>388.4174</td>\n",
       "      <td>10330.24</td>\n",
       "      <td>11:22:59</td>\n",
       "    </tr>\n",
       "    <tr>\n",
       "      <th>21685</th>\n",
       "      <td>P3D</td>\n",
       "      <td>2020-08-09 11:22:59:776</td>\n",
       "      <td>8.6438</td>\n",
       "      <td>340.3261</td>\n",
       "      <td>5.7992</td>\n",
       "      <td>388.4771</td>\n",
       "      <td>10328.93</td>\n",
       "      <td>11:22:59</td>\n",
       "    </tr>\n",
       "    <tr>\n",
       "      <th>21686</th>\n",
       "      <td>P3D</td>\n",
       "      <td>2020-08-09 11:22:59:776</td>\n",
       "      <td>8.6424</td>\n",
       "      <td>340.3234</td>\n",
       "      <td>5.7966</td>\n",
       "      <td>388.5366</td>\n",
       "      <td>10327.62</td>\n",
       "      <td>11:22:59</td>\n",
       "    </tr>\n",
       "    <tr>\n",
       "      <th>21687</th>\n",
       "      <td>P3D</td>\n",
       "      <td>2020-08-09 11:23:00:198</td>\n",
       "      <td>8.5816</td>\n",
       "      <td>340.2157</td>\n",
       "      <td>5.6952</td>\n",
       "      <td>390.8714</td>\n",
       "      <td>10276.03</td>\n",
       "      <td>11:23:00</td>\n",
       "    </tr>\n",
       "    <tr>\n",
       "      <th>21688</th>\n",
       "      <td>P3D</td>\n",
       "      <td>2020-08-09 11:23:00:198</td>\n",
       "      <td>8.5802</td>\n",
       "      <td>340.2132</td>\n",
       "      <td>5.6928</td>\n",
       "      <td>390.9261</td>\n",
       "      <td>10274.81</td>\n",
       "      <td>11:23:00</td>\n",
       "    </tr>\n",
       "  </tbody>\n",
       "</table>\n",
       "</div>"
      ],
      "text/plain": [
       "        P3D                 date time   pitch       yaw    roll     speed  \\\n",
       "21684  P3D    2020-08-09 11:22:59:775  8.6453  340.3289  5.8017  388.4174   \n",
       "21685  P3D    2020-08-09 11:22:59:776  8.6438  340.3261  5.7992  388.4771   \n",
       "21686  P3D    2020-08-09 11:22:59:776  8.6424  340.3234  5.7966  388.5366   \n",
       "21687  P3D    2020-08-09 11:23:00:198  8.5816  340.2157  5.6952  390.8714   \n",
       "21688  P3D    2020-08-09 11:23:00:198  8.5802  340.2132  5.6928  390.9261   \n",
       "\n",
       "       altitude      time  \n",
       "21684  10330.24  11:22:59  \n",
       "21685  10328.93  11:22:59  \n",
       "21686  10327.62  11:22:59  \n",
       "21687  10276.03  11:23:00  \n",
       "21688  10274.81  11:23:00  "
      ]
     },
     "execution_count": 67,
     "metadata": {},
     "output_type": "execute_result"
    }
   ],
   "source": [
    "dfOut.tail()"
   ]
  },
  {
   "cell_type": "code",
   "execution_count": 77,
   "metadata": {},
   "outputs": [],
   "source": [
    "df_out = pd.DataFrame()\n",
    "df_time = pd.DataFrame()\n",
    "i = 0\n",
    "for (time, group) in dfOut.groupby('time'):\n",
    "    framesPerSec = int(df_count.iloc[i]['fps'])\n",
    "    df_out = df_out.append(pd.DataFrame(group.groupby(group.index//df_count.iloc[i]['every'], as_index=False).mean().head(framesPerSec)), ignore_index=True)\n",
    "    df_i = pd.DataFrame({'time': [time]})\n",
    "    for a in range(framesPerSec):\n",
    "        df_time = df_time.append(df_i, ignore_index=True)\n",
    "    \n",
    "    i = i + 1"
   ]
  },
  {
   "cell_type": "code",
   "execution_count": 68,
   "metadata": {},
   "outputs": [
    {
     "data": {
      "text/plain": [
       "367"
      ]
     },
     "execution_count": 68,
     "metadata": {},
     "output_type": "execute_result"
    }
   ],
   "source": [
    "i"
   ]
  },
  {
   "cell_type": "code",
   "execution_count": 78,
   "metadata": {},
   "outputs": [
    {
     "data": {
      "text/html": [
       "<div>\n",
       "<style scoped>\n",
       "    .dataframe tbody tr th:only-of-type {\n",
       "        vertical-align: middle;\n",
       "    }\n",
       "\n",
       "    .dataframe tbody tr th {\n",
       "        vertical-align: top;\n",
       "    }\n",
       "\n",
       "    .dataframe thead th {\n",
       "        text-align: right;\n",
       "    }\n",
       "</style>\n",
       "<table border=\"1\" class=\"dataframe\">\n",
       "  <thead>\n",
       "    <tr style=\"text-align: right;\">\n",
       "      <th></th>\n",
       "      <th>pitch</th>\n",
       "      <th>yaw</th>\n",
       "      <th>roll</th>\n",
       "      <th>speed</th>\n",
       "      <th>altitude</th>\n",
       "      <th>time</th>\n",
       "    </tr>\n",
       "  </thead>\n",
       "  <tbody>\n",
       "    <tr>\n",
       "      <th>0</th>\n",
       "      <td>0.973236</td>\n",
       "      <td>26.960000</td>\n",
       "      <td>0.003907</td>\n",
       "      <td>0.028971</td>\n",
       "      <td>21.988000</td>\n",
       "      <td>11:16:54</td>\n",
       "    </tr>\n",
       "    <tr>\n",
       "      <th>1</th>\n",
       "      <td>0.973036</td>\n",
       "      <td>26.960000</td>\n",
       "      <td>0.003600</td>\n",
       "      <td>0.029843</td>\n",
       "      <td>21.988007</td>\n",
       "      <td>11:16:54</td>\n",
       "    </tr>\n",
       "    <tr>\n",
       "      <th>2</th>\n",
       "      <td>0.970507</td>\n",
       "      <td>26.960000</td>\n",
       "      <td>0.005686</td>\n",
       "      <td>0.033343</td>\n",
       "      <td>21.988100</td>\n",
       "      <td>11:16:54</td>\n",
       "    </tr>\n",
       "    <tr>\n",
       "      <th>3</th>\n",
       "      <td>0.971771</td>\n",
       "      <td>26.960000</td>\n",
       "      <td>0.003321</td>\n",
       "      <td>0.033336</td>\n",
       "      <td>21.988100</td>\n",
       "      <td>11:16:54</td>\n",
       "    </tr>\n",
       "    <tr>\n",
       "      <th>4</th>\n",
       "      <td>0.972025</td>\n",
       "      <td>26.960000</td>\n",
       "      <td>0.004450</td>\n",
       "      <td>0.034350</td>\n",
       "      <td>21.988100</td>\n",
       "      <td>11:16:55</td>\n",
       "    </tr>\n",
       "    <tr>\n",
       "      <th>...</th>\n",
       "      <td>...</td>\n",
       "      <td>...</td>\n",
       "      <td>...</td>\n",
       "      <td>...</td>\n",
       "      <td>...</td>\n",
       "      <td>...</td>\n",
       "    </tr>\n",
       "    <tr>\n",
       "      <th>3326</th>\n",
       "      <td>8.691950</td>\n",
       "      <td>340.416737</td>\n",
       "      <td>5.884762</td>\n",
       "      <td>386.519062</td>\n",
       "      <td>10371.582500</td>\n",
       "      <td>11:22:59</td>\n",
       "    </tr>\n",
       "    <tr>\n",
       "      <th>3327</th>\n",
       "      <td>8.680388</td>\n",
       "      <td>340.394487</td>\n",
       "      <td>5.863738</td>\n",
       "      <td>386.992175</td>\n",
       "      <td>10361.153750</td>\n",
       "      <td>11:22:59</td>\n",
       "    </tr>\n",
       "    <tr>\n",
       "      <th>3328</th>\n",
       "      <td>8.668788</td>\n",
       "      <td>340.372487</td>\n",
       "      <td>5.842938</td>\n",
       "      <td>387.478263</td>\n",
       "      <td>10350.817500</td>\n",
       "      <td>11:22:59</td>\n",
       "    </tr>\n",
       "    <tr>\n",
       "      <th>3329</th>\n",
       "      <td>8.657425</td>\n",
       "      <td>340.351225</td>\n",
       "      <td>5.822850</td>\n",
       "      <td>387.933987</td>\n",
       "      <td>10340.801250</td>\n",
       "      <td>11:22:59</td>\n",
       "    </tr>\n",
       "    <tr>\n",
       "      <th>3330</th>\n",
       "      <td>8.580900</td>\n",
       "      <td>340.214450</td>\n",
       "      <td>5.694000</td>\n",
       "      <td>390.898750</td>\n",
       "      <td>10275.420000</td>\n",
       "      <td>11:23:00</td>\n",
       "    </tr>\n",
       "  </tbody>\n",
       "</table>\n",
       "<p>3331 rows × 6 columns</p>\n",
       "</div>"
      ],
      "text/plain": [
       "         pitch         yaw      roll       speed      altitude      time\n",
       "0     0.973236   26.960000  0.003907    0.028971     21.988000  11:16:54\n",
       "1     0.973036   26.960000  0.003600    0.029843     21.988007  11:16:54\n",
       "2     0.970507   26.960000  0.005686    0.033343     21.988100  11:16:54\n",
       "3     0.971771   26.960000  0.003321    0.033336     21.988100  11:16:54\n",
       "4     0.972025   26.960000  0.004450    0.034350     21.988100  11:16:55\n",
       "...        ...         ...       ...         ...           ...       ...\n",
       "3326  8.691950  340.416737  5.884762  386.519062  10371.582500  11:22:59\n",
       "3327  8.680388  340.394487  5.863738  386.992175  10361.153750  11:22:59\n",
       "3328  8.668788  340.372487  5.842938  387.478263  10350.817500  11:22:59\n",
       "3329  8.657425  340.351225  5.822850  387.933987  10340.801250  11:22:59\n",
       "3330  8.580900  340.214450  5.694000  390.898750  10275.420000  11:23:00\n",
       "\n",
       "[3331 rows x 6 columns]"
      ]
     },
     "execution_count": 78,
     "metadata": {},
     "output_type": "execute_result"
    }
   ],
   "source": [
    "df_final = df_out.join(df_time)\n",
    "df_final"
   ]
  },
  {
   "cell_type": "code",
   "execution_count": 79,
   "metadata": {},
   "outputs": [],
   "source": [
    "df_final.to_csv('output/13thFinalLog.csv')"
   ]
  },
  {
   "cell_type": "code",
   "execution_count": 42,
   "metadata": {},
   "outputs": [],
   "source": [
    "df_count = df['time'].value_counts().sort_index()//framesPerSec\n",
    "df_count = df_count.to_frame().reset_index()\n",
    "df_count.head()\n",
    "dfOut = df.copy()\n",
    "df_count.rename(columns={\"index\": \"index\", \"time\": \"count\"}, inplace=True)"
   ]
  },
  {
   "cell_type": "code",
   "execution_count": 74,
   "metadata": {},
   "outputs": [],
   "source": [
    "df_out = pd.DataFrame()\n",
    "df_time = pd.DataFrame()\n",
    "i = 0\n",
    "for (time, group) in dfOut.groupby('time'):\n",
    "    df_out = df_out.append(pd.DataFrame(group.groupby(group.index//df_count.iloc[i]['count'], as_index=False).mean().head(framesPerSec)), ignore_index=True)\n",
    "    df_i = pd.DataFrame({'time': [time]})\n",
    "    for a in range(framesPerSec):\n",
    "        df_time = df_time.append(df_i, ignore_index=True)\n",
    "    \n",
    "    i = i + 1"
   ]
  },
  {
   "cell_type": "code",
   "execution_count": null,
   "metadata": {},
   "outputs": [],
   "source": []
  },
  {
   "cell_type": "code",
   "execution_count": 75,
   "metadata": {},
   "outputs": [
    {
     "data": {
      "text/plain": [
       "(728, 6)"
      ]
     },
     "execution_count": 75,
     "metadata": {},
     "output_type": "execute_result"
    }
   ],
   "source": [
    "df_final = df_out.join(df_time)\n",
    "df_final.shape"
   ]
  },
  {
   "cell_type": "code",
   "execution_count": 45,
   "metadata": {},
   "outputs": [],
   "source": [
    "df_final.to_csv(outlog)"
   ]
  },
  {
   "cell_type": "markdown",
   "metadata": {},
   "source": [
    "Verify Sync"
   ]
  },
  {
   "cell_type": "code",
   "execution_count": 36,
   "metadata": {},
   "outputs": [],
   "source": [
    "dfSync = pd.read_csv(outlog)"
   ]
  },
  {
   "cell_type": "code",
   "execution_count": 37,
   "metadata": {},
   "outputs": [
    {
     "data": {
      "image/png": "[encoded data removed]",
      "text/plain": [
       "<Figure size 432x288 with 1 Axes>"
      ]
     },
     "metadata": {
      "needs_background": "light"
     },
     "output_type": "display_data"
    },
    {
     "data": {
      "image/png": "[encoded data removed]",
      "text/plain": [
       "<Figure size 432x288 with 1 Axes>"
      ]
     },
     "metadata": {
      "needs_background": "light"
     },
     "output_type": "display_data"
    }
   ],
   "source": [
    "plt.scatter([df.index], [df.roll],  color='blue')\n",
    "plt.xlabel(\"Time\")\n",
    "plt.ylabel(\"Roll\")\n",
    "plt.show()\n",
    "plt.scatter([dfSync.index], [dfSync.roll],  color='blue')\n",
    "plt.xlabel(\"Time\")\n",
    "plt.ylabel(\"Roll\")\n",
    "plt.show()"
   ]
  },
  {
   "cell_type": "code",
   "execution_count": 38,
   "metadata": {},
   "outputs": [
    {
     "data": {
      "image/png": "[encoded data removed]",
      "text/plain": [
       "<Figure size 432x288 with 1 Axes>"
      ]
     },
     "metadata": {
      "needs_background": "light"
     },
     "output_type": "display_data"
    },
    {
     "data": {
      "image/png": "[encoded data removed]",
      "text/plain": [
       "<Figure size 432x288 with 1 Axes>"
      ]
     },
     "metadata": {
      "needs_background": "light"
     },
     "output_type": "display_data"
    }
   ],
   "source": [
    "plt.scatter([df.index], [df.pitch],  color='blue')\n",
    "plt.xlabel(\"Time\")\n",
    "plt.ylabel(\"Pitch\")\n",
    "plt.show()\n",
    "plt.scatter([dfSync.index], [dfSync.pitch],  color='blue')\n",
    "plt.xlabel(\"Time\")\n",
    "plt.ylabel(\"Pitch\")\n",
    "plt.show()\n"
   ]
  },
  {
   "cell_type": "code",
   "execution_count": 39,
   "metadata": {},
   "outputs": [
    {
     "data": {
      "image/png": "[encoded data removed]",
      "text/plain": [
       "<Figure size 432x288 with 1 Axes>"
      ]
     },
     "metadata": {
      "needs_background": "light"
     },
     "output_type": "display_data"
    },
    {
     "data": {
      "image/png": "[encoded data removed]",
      "text/plain": [
       "<Figure size 432x288 with 1 Axes>"
      ]
     },
     "metadata": {
      "needs_background": "light"
     },
     "output_type": "display_data"
    }
   ],
   "source": [
    "plt.scatter([df.index], [df.yaw],  color='blue')\n",
    "plt.xlabel(\"Time\")\n",
    "plt.ylabel(\"Yaw\")\n",
    "plt.show()\n",
    "plt.scatter([dfSync.index], [dfSync.yaw],  color='blue')\n",
    "plt.xlabel(\"Time\")\n",
    "plt.ylabel(\"Yaw\")\n",
    "plt.show()"
   ]
  },
  {
   "cell_type": "code",
   "execution_count": 4,
   "metadata": {},
   "outputs": [],
   "source": [
    "dfSync = pd.read_csv('output/13thFinalLog.csv')\n",
    "cap = cv2.VideoCapture(video) \n",
    "frame_width = int(cap.get(3))\n",
    "frame_height = int(cap.get(4))\n",
    "out = cv2.VideoWriter('output/13theverySec.avi' ,cv2.VideoWriter_fourcc('M','J','P','G'), 9, (frame_width,frame_height))\n",
    "frameList = []\n",
    "i = 0\n",
    "while(True): \n",
    "    ret, frame = cap.read() \n",
    "    #pytesseract.tesseract_cmd = r\"C:\\Program Files\\Tesseract-OCR\\tesseract.exe\"\n",
    "    #text = image_to_string(frame, lang='eng', config='--psm 6')\n",
    "    #print(text)\n",
    "    #result = re.findall(r\"\\d\\d:\\d\\d:\\d\\d\", text)\n",
    "    #frameList.append(result[0])\n",
    "    \n",
    "    \n",
    "    if(True):\n",
    "        # describe the type of font \n",
    "        # to be used. \n",
    "        font = cv2.FONT_HERSHEY_SIMPLEX \n",
    "  \n",
    "    # Use putText() method for \n",
    "    # inserting text on video \n",
    "        roll = dfSync.iloc[i]['roll']\n",
    "        pitch = dfSync.iloc[i]['pitch']\n",
    "        yaw = dfSync.iloc[i]['yaw']\n",
    "        time = dfSync.iloc[i]['time']\n",
    "        \n",
    "        cv2.putText(frame,  \n",
    "                'roll : {:.2f}'.format(roll),  \n",
    "                (50, 60),  \n",
    "                font, 1,  \n",
    "                (0, 255, 255),  \n",
    "                2,  \n",
    "                cv2.LINE_4) \n",
    "        cv2.putText(frame,  \n",
    "                'pitch :{:.2f}'.format(pitch),  \n",
    "                (50, 80),  \n",
    "                font, 1,  \n",
    "                (0, 255, 255),  \n",
    "                2,  \n",
    "                cv2.LINE_4) \n",
    "        cv2.putText(frame,  \n",
    "                'yaw :{:.2f}'.format(yaw),  \n",
    "                (50, 100),  \n",
    "                font, 1,  \n",
    "                (0, 255, 255),  \n",
    "                2,  \n",
    "                cv2.LINE_4) \n",
    "        cv2.putText(frame,  \n",
    "                'time :{}'.format(time),  \n",
    "                (50, 120),  \n",
    "                font, 1,  \n",
    "                (0, 255, 255),  \n",
    "                2,  \n",
    "                cv2.LINE_4) \n",
    "  \n",
    "    # Display the resulting frame \n",
    "        cv2.imshow('video', frame) \n",
    "        out.write(frame)\n",
    "        i = i + 1\n",
    "    # creating 'q' as the quit  \n",
    "    # button for the video \n",
    "        if cv2.waitKey(10) & 0xFF == ord('q'): \n",
    "            break\n",
    "  \n",
    "\n",
    "# release the cap object \n",
    "cap.release() \n",
    "# close all windows \n",
    "cv2.destroyAllWindows() "
   ]
  },
  {
   "cell_type": "code",
   "execution_count": 53,
   "metadata": {},
   "outputs": [
    {
     "data": {
      "text/plain": [
       "[]"
      ]
     },
     "execution_count": 53,
     "metadata": {},
     "output_type": "execute_result"
    }
   ],
   "source": [
    "frameList"
   ]
  },
  {
   "cell_type": "code",
   "execution_count": 108,
   "metadata": {},
   "outputs": [
    {
     "name": "stdout",
     "output_type": "stream",
     "text": [
      "Collecting pytesseract\n",
      "  Downloading pytesseract-0.3.4.tar.gz (13 kB)\n",
      "Requirement already satisfied: Pillow in c:\\programdata\\anaconda3\\lib\\site-packages (from pytesseract) (7.2.0)\n",
      "Building wheels for collected packages: pytesseract\n",
      "  Building wheel for pytesseract (setup.py): started\n",
      "  Building wheel for pytesseract (setup.py): finished with status 'done'\n",
      "  Created wheel for pytesseract: filename=pytesseract-0.3.4-py2.py3-none-any.whl size=13439 sha256=0a3129d7f9afcb9b9ba62803edf086fcc0af7a501e5526552c33809615b9af4e\n",
      "  Stored in directory: c:\\users\\sathish kasinathan\\appdata\\local\\pip\\cache\\wheels\\5e\\48\\64\\518a6780b56aee06efa310fb23eaa144405b96429d13204e1e\n",
      "Successfully built pytesseract\n",
      "Installing collected packages: pytesseract\n",
      "Successfully installed pytesseract-0.3.4\n"
     ]
    }
   ],
   "source": [
    "!pip install pytesseract"
   ]
  },
  {
   "cell_type": "code",
   "execution_count": 5,
   "metadata": {},
   "outputs": [
    {
     "name": "stdout",
     "output_type": "stream",
     "text": [
      "[tow ide Nova MoM Ostns ws anys ewe Tenle Wiley HOD\n",
      "a\n",
      "af ne —S\n",
      "/,\n",
      "a) 09.08.2020 11:16:54 AM ‘8 4 a8\n",
      "ea i aan) ce\n"
     ]
    }
   ],
   "source": [
    "from PIL import Image\n",
    "from pytesseract import *\n",
    "im = Image.open('output/frame0.jpg')\n",
    "pytesseract.tesseract_cmd = r\"C:\\Program Files\\Tesseract-OCR\\tesseract.exe\"\n",
    "text = image_to_string(im, lang='eng', config='--psm 6')\n",
    "print(text)\n"
   ]
  },
  {
   "cell_type": "code",
   "execution_count": 129,
   "metadata": {},
   "outputs": [
    {
     "data": {
      "text/plain": [
       "'11:17:15'"
      ]
     },
     "execution_count": 129,
     "metadata": {},
     "output_type": "execute_result"
    }
   ],
   "source": [
    "text[15:23]"
   ]
  },
  {
   "cell_type": "code",
   "execution_count": 130,
   "metadata": {},
   "outputs": [],
   "source": [
    "from email import utils"
   ]
  },
  {
   "cell_type": "code",
   "execution_count": 131,
   "metadata": {},
   "outputs": [
    {
     "ename": "TypeError",
     "evalue": "cannot unpack non-iterable NoneType object",
     "output_type": "error",
     "traceback": [
      "\u001b[1;31m---------------------------------------------------------------------------\u001b[0m",
      "\u001b[1;31mTypeError\u001b[0m                                 Traceback (most recent call last)",
      "\u001b[1;32m<ipython-input-131-ac987b63d751>\u001b[0m in \u001b[0;36m<module>\u001b[1;34m\u001b[0m\n\u001b[1;32m----> 1\u001b[1;33m \u001b[0mdate\u001b[0m \u001b[1;33m=\u001b[0m \u001b[0mutils\u001b[0m\u001b[1;33m.\u001b[0m\u001b[0mparsedate_to_datetime\u001b[0m\u001b[1;33m(\u001b[0m\u001b[0mtext\u001b[0m\u001b[1;33m)\u001b[0m\u001b[1;33m\u001b[0m\u001b[1;33m\u001b[0m\u001b[0m\n\u001b[0m\u001b[0;32m      2\u001b[0m \u001b[0mdate\u001b[0m\u001b[1;33m.\u001b[0m\u001b[0mstrftime\u001b[0m\u001b[1;33m(\u001b[0m\u001b[1;34m'%H:%M:%S'\u001b[0m\u001b[1;33m)\u001b[0m\u001b[1;33m\u001b[0m\u001b[1;33m\u001b[0m\u001b[0m\n",
      "\u001b[1;32mC:\\ProgramData\\Anaconda3\\lib\\email\\utils.py\u001b[0m in \u001b[0;36mparsedate_to_datetime\u001b[1;34m(data)\u001b[0m\n\u001b[0;32m    196\u001b[0m \u001b[1;33m\u001b[0m\u001b[0m\n\u001b[0;32m    197\u001b[0m \u001b[1;32mdef\u001b[0m \u001b[0mparsedate_to_datetime\u001b[0m\u001b[1;33m(\u001b[0m\u001b[0mdata\u001b[0m\u001b[1;33m)\u001b[0m\u001b[1;33m:\u001b[0m\u001b[1;33m\u001b[0m\u001b[1;33m\u001b[0m\u001b[0m\n\u001b[1;32m--> 198\u001b[1;33m     \u001b[1;33m*\u001b[0m\u001b[0mdtuple\u001b[0m\u001b[1;33m,\u001b[0m \u001b[0mtz\u001b[0m \u001b[1;33m=\u001b[0m \u001b[0m_parsedate_tz\u001b[0m\u001b[1;33m(\u001b[0m\u001b[0mdata\u001b[0m\u001b[1;33m)\u001b[0m\u001b[1;33m\u001b[0m\u001b[1;33m\u001b[0m\u001b[0m\n\u001b[0m\u001b[0;32m    199\u001b[0m     \u001b[1;32mif\u001b[0m \u001b[0mtz\u001b[0m \u001b[1;32mis\u001b[0m \u001b[1;32mNone\u001b[0m\u001b[1;33m:\u001b[0m\u001b[1;33m\u001b[0m\u001b[1;33m\u001b[0m\u001b[0m\n\u001b[0;32m    200\u001b[0m         \u001b[1;32mreturn\u001b[0m \u001b[0mdatetime\u001b[0m\u001b[1;33m.\u001b[0m\u001b[0mdatetime\u001b[0m\u001b[1;33m(\u001b[0m\u001b[1;33m*\u001b[0m\u001b[0mdtuple\u001b[0m\u001b[1;33m[\u001b[0m\u001b[1;33m:\u001b[0m\u001b[1;36m6\u001b[0m\u001b[1;33m]\u001b[0m\u001b[1;33m)\u001b[0m\u001b[1;33m\u001b[0m\u001b[1;33m\u001b[0m\u001b[0m\n",
      "\u001b[1;31mTypeError\u001b[0m: cannot unpack non-iterable NoneType object"
     ]
    }
   ],
   "source": [
    "date = utils.parsedate_to_datetime(text)\n",
    "date.strftime('%H:%M:%S')"
   ]
  },
  {
   "cell_type": "code",
   "execution_count": 132,
   "metadata": {},
   "outputs": [],
   "source": [
    "from datetime import datetime"
   ]
  },
  {
   "cell_type": "code",
   "execution_count": 138,
   "metadata": {},
   "outputs": [
    {
     "ename": "ValueError",
     "evalue": "time data '_ -\\n09.08.2020 11:17:15 ra\\nre ——' does not match format '%m %d %y %H:%M:%S %z %Y'",
     "output_type": "error",
     "traceback": [
      "\u001b[1;31m---------------------------------------------------------------------------\u001b[0m",
      "\u001b[1;31mValueError\u001b[0m                                Traceback (most recent call last)",
      "\u001b[1;32m<ipython-input-138-33a8254f8ff0>\u001b[0m in \u001b[0;36m<module>\u001b[1;34m\u001b[0m\n\u001b[1;32m----> 1\u001b[1;33m \u001b[0md\u001b[0m \u001b[1;33m=\u001b[0m \u001b[0mdatetime\u001b[0m\u001b[1;33m.\u001b[0m\u001b[0mstrptime\u001b[0m\u001b[1;33m(\u001b[0m\u001b[0mtext\u001b[0m\u001b[1;33m,\u001b[0m\u001b[1;34m'%m %d %y %H:%M:%S %z %Y'\u001b[0m\u001b[1;33m)\u001b[0m\u001b[1;33m\u001b[0m\u001b[1;33m\u001b[0m\u001b[0m\n\u001b[0m",
      "\u001b[1;32mC:\\ProgramData\\Anaconda3\\lib\\_strptime.py\u001b[0m in \u001b[0;36m_strptime_datetime\u001b[1;34m(cls, data_string, format)\u001b[0m\n\u001b[0;32m    566\u001b[0m     \"\"\"Return a class cls instance based on the input string and the\n\u001b[0;32m    567\u001b[0m     format string.\"\"\"\n\u001b[1;32m--> 568\u001b[1;33m     \u001b[0mtt\u001b[0m\u001b[1;33m,\u001b[0m \u001b[0mfraction\u001b[0m\u001b[1;33m,\u001b[0m \u001b[0mgmtoff_fraction\u001b[0m \u001b[1;33m=\u001b[0m \u001b[0m_strptime\u001b[0m\u001b[1;33m(\u001b[0m\u001b[0mdata_string\u001b[0m\u001b[1;33m,\u001b[0m \u001b[0mformat\u001b[0m\u001b[1;33m)\u001b[0m\u001b[1;33m\u001b[0m\u001b[1;33m\u001b[0m\u001b[0m\n\u001b[0m\u001b[0;32m    569\u001b[0m     \u001b[0mtzname\u001b[0m\u001b[1;33m,\u001b[0m \u001b[0mgmtoff\u001b[0m \u001b[1;33m=\u001b[0m \u001b[0mtt\u001b[0m\u001b[1;33m[\u001b[0m\u001b[1;33m-\u001b[0m\u001b[1;36m2\u001b[0m\u001b[1;33m:\u001b[0m\u001b[1;33m]\u001b[0m\u001b[1;33m\u001b[0m\u001b[1;33m\u001b[0m\u001b[0m\n\u001b[0;32m    570\u001b[0m     \u001b[0margs\u001b[0m \u001b[1;33m=\u001b[0m \u001b[0mtt\u001b[0m\u001b[1;33m[\u001b[0m\u001b[1;33m:\u001b[0m\u001b[1;36m6\u001b[0m\u001b[1;33m]\u001b[0m \u001b[1;33m+\u001b[0m \u001b[1;33m(\u001b[0m\u001b[0mfraction\u001b[0m\u001b[1;33m,\u001b[0m\u001b[1;33m)\u001b[0m\u001b[1;33m\u001b[0m\u001b[1;33m\u001b[0m\u001b[0m\n",
      "\u001b[1;32mC:\\ProgramData\\Anaconda3\\lib\\_strptime.py\u001b[0m in \u001b[0;36m_strptime\u001b[1;34m(data_string, format)\u001b[0m\n\u001b[0;32m    347\u001b[0m     \u001b[0mfound\u001b[0m \u001b[1;33m=\u001b[0m \u001b[0mformat_regex\u001b[0m\u001b[1;33m.\u001b[0m\u001b[0mmatch\u001b[0m\u001b[1;33m(\u001b[0m\u001b[0mdata_string\u001b[0m\u001b[1;33m)\u001b[0m\u001b[1;33m\u001b[0m\u001b[1;33m\u001b[0m\u001b[0m\n\u001b[0;32m    348\u001b[0m     \u001b[1;32mif\u001b[0m \u001b[1;32mnot\u001b[0m \u001b[0mfound\u001b[0m\u001b[1;33m:\u001b[0m\u001b[1;33m\u001b[0m\u001b[1;33m\u001b[0m\u001b[0m\n\u001b[1;32m--> 349\u001b[1;33m         raise ValueError(\"time data %r does not match format %r\" %\n\u001b[0m\u001b[0;32m    350\u001b[0m                          (data_string, format))\n\u001b[0;32m    351\u001b[0m     \u001b[1;32mif\u001b[0m \u001b[0mlen\u001b[0m\u001b[1;33m(\u001b[0m\u001b[0mdata_string\u001b[0m\u001b[1;33m)\u001b[0m \u001b[1;33m!=\u001b[0m \u001b[0mfound\u001b[0m\u001b[1;33m.\u001b[0m\u001b[0mend\u001b[0m\u001b[1;33m(\u001b[0m\u001b[1;33m)\u001b[0m\u001b[1;33m:\u001b[0m\u001b[1;33m\u001b[0m\u001b[1;33m\u001b[0m\u001b[0m\n",
      "\u001b[1;31mValueError\u001b[0m: time data '_ -\\n09.08.2020 11:17:15 ra\\nre ——' does not match format '%m %d %y %H:%M:%S %z %Y'"
     ]
    }
   ],
   "source": [
    "d = datetime.strptime(text,'%m %d %y %H:%M:%S %z %Y')"
   ]
  },
  {
   "cell_type": "code",
   "execution_count": 139,
   "metadata": {},
   "outputs": [],
   "source": [
    "import re"
   ]
  },
  {
   "cell_type": "code",
   "execution_count": 157,
   "metadata": {},
   "outputs": [],
   "source": [
    "result = re.findall(r\"\\d\\d:\\d\\d:\\d\\d\", text)\n"
   ]
  },
  {
   "cell_type": "code",
   "execution_count": 159,
   "metadata": {},
   "outputs": [],
   "source": [
    "frameTime=[]\n",
    "frameTime.append(result[0])"
   ]
  },
  {
   "cell_type": "code",
   "execution_count": 160,
   "metadata": {},
   "outputs": [],
   "source": [
    "result = re.findall(r\"\\d\\d:\\d\\d:\\d\\d\", text)\n",
    "frameTime.append(result[0])"
   ]
  },
  {
   "cell_type": "code",
   "execution_count": 161,
   "metadata": {},
   "outputs": [
    {
     "data": {
      "text/plain": [
       "['11:17:15', '11:17:15']"
      ]
     },
     "execution_count": 161,
     "metadata": {},
     "output_type": "execute_result"
    }
   ],
   "source": [
    "frameTime"
   ]
  },
  {
   "cell_type": "code",
   "execution_count": 8,
   "metadata": {},
   "outputs": [],
   "source": [
    "vidcap = cv2.VideoCapture(video)\n",
    "success,image = vidcap.read()\n",
    "count = 0\n",
    "while success:\n",
    "    cv2.imwrite(\"output/temp/%d.jpg\" % count, image)     # save frame as JPEG file      \n",
    "    success,image = vidcap.read()\n",
    "    #print('Read a new frame: ', success)\n",
    "    count += 1\n",
    "\n",
    "vidcap.release() "
   ]
  },
  {
   "cell_type": "code",
   "execution_count": null,
   "metadata": {},
   "outputs": [],
   "source": []
  }
 ],
 "metadata": {
  "kernelspec": {
   "display_name": "Python 3",
   "language": "python",
   "name": "python3"
  },
  "language_info": {
   "codemirror_mode": {
    "name": "ipython",
    "version": 3
   },
   "file_extension": ".py",
   "mimetype": "text/x-python",
   "name": "python",
   "nbconvert_exporter": "python",
   "pygments_lexer": "ipython3",
   "version": "3.8.3"
  }
 },
 "nbformat": 4,
 "nbformat_minor": 4
}
