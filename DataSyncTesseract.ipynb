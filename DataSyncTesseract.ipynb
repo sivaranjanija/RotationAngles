{
 "cells": [
  {
   "cell_type": "code",
   "execution_count": 1,
   "metadata": {},
   "outputs": [],
   "source": [
    "from PIL import Image\n",
    "from pytesseract import *\n",
    "import re\n",
    "import glob\n",
    "#!pip install pytesseract"
   ]
  },
  {
   "cell_type": "code",
   "execution_count": 3,
   "metadata": {},
   "outputs": [
    {
     "name": "stdout",
     "output_type": "stream",
     "text": [
      "ete ett\n",
      "py &\n",
      "\"a of\n",
      "Ts — s\n"
     ]
    }
   ],
   "source": [
    "pytesseract.tesseract_cmd = r\"C:\\Program Files\\Tesseract-OCR\\tesseract.exe\"\n",
    "im = Image.open('output/temp/10.jpg')\n",
    "text = image_to_string(im, lang='eng', config='--psm 6')\n",
    "print(text)\n",
    "result = re.findall(r\"\\d\\d:\\d\\d:\\d\\d\", text)\n",
    "#result[0]"
   ]
  },
  {
   "cell_type": "code",
   "execution_count": 19,
   "metadata": {},
   "outputs": [],
   "source": [
    "path = r'C:\\Users\\Sathish Kasinathan\\Downloads\\output\\temp' \n",
    "all_files = glob.glob(path + \"/*.jpg\")\n",
    "fileList = []\n",
    "frameNumber = []\n",
    "numbers=re.compile(r'(\\d+)')\n",
    "\n",
    "def numericalSort(value):\n",
    "    parts = numbers.split(value)\n",
    "    parts[1::2] = map(int, parts[1::2])\n",
    "    return parts\n",
    "for filename in sorted(all_files, key=numericalSort):\n",
    "    fileList.append(filename)\n",
    "    frameNumber.append(int(\"\".join(filter(str.isdigit, filename))))\n"
   ]
  },
  {
   "cell_type": "code",
   "execution_count": 62,
   "metadata": {},
   "outputs": [],
   "source": [
    "import cv2\n",
    "img = cv2.imread(fileList[0])\n",
    "crop_img = img[450:480, 447:538]\n",
    "cv2.imshow(\"cropped\", crop_img)\n",
    "cv2.waitKey(0)\n",
    "cv2.destroyWindow('cropped')"
   ]
  },
  {
   "cell_type": "code",
   "execution_count": 4,
   "metadata": {},
   "outputs": [
    {
     "name": "stdout",
     "output_type": "stream",
     "text": [
      "ete ett\n",
      "py &\n",
      "\"a of\n",
      "Ts — s\n"
     ]
    }
   ],
   "source": [
    "pytesseract.tesseract_cmd = r\"C:\\Program Files\\Tesseract-OCR\\tesseract.exe\"\n",
    "#im = Image.open(crop_img)\n",
    "text = image_to_string(im, lang='eng', config='--psm 6')\n",
    "print(text)\n",
    "result = re.findall(r\"\\d\\d:\\d\\d:\\d\\d\", text)\n",
    "#result[0]"
   ]
  },
  {
   "cell_type": "code",
   "execution_count": null,
   "metadata": {},
   "outputs": [],
   "source": []
  },
  {
   "cell_type": "code",
   "execution_count": 78,
   "metadata": {},
   "outputs": [],
   "source": [
    "pytesseract.tesseract_cmd = r\"C:\\Program Files\\Tesseract-OCR\\tesseract.exe\"\n",
    "time1List = []\n",
    "for i in range(2790, 3330):\n",
    "    im = Image.open(fileList[i])\n",
    "    text = image_to_string(im, lang='eng', config='--psm 6')\n",
    "    result = re.findall(r\"\\d\\d:\\d\\d:\\d\\d\", text)\n",
    "    try:\n",
    "        time1List.append(result[0])\n",
    "    except IndexError:\n",
    "        time1List.append(\"NaN\")\n",
    "    "
   ]
  },
  {
   "cell_type": "code",
   "execution_count": 73,
   "metadata": {},
   "outputs": [
    {
     "data": {
      "text/plain": [
       "2790"
      ]
     },
     "execution_count": 73,
     "metadata": {},
     "output_type": "execute_result"
    }
   ],
   "source": [
    "len(timeList)"
   ]
  },
  {
   "cell_type": "code",
   "execution_count": null,
   "metadata": {},
   "outputs": [],
   "source": []
  },
  {
   "cell_type": "code",
   "execution_count": 83,
   "metadata": {},
   "outputs": [
    {
     "data": {
      "text/plain": [
       "'NaN'"
      ]
     },
     "execution_count": 83,
     "metadata": {},
     "output_type": "execute_result"
    }
   ],
   "source": [
    "time1List[0]"
   ]
  },
  {
   "cell_type": "code",
   "execution_count": 84,
   "metadata": {},
   "outputs": [],
   "source": [
    "listCopy  = timeList.copy()\n",
    "list2Copy = time1List.copy()"
   ]
  },
  {
   "cell_type": "code",
   "execution_count": 85,
   "metadata": {},
   "outputs": [
    {
     "data": {
      "text/plain": [
       "3330"
      ]
     },
     "execution_count": 85,
     "metadata": {},
     "output_type": "execute_result"
    }
   ],
   "source": [
    "timeList.extend(time1List)\n",
    "len(timeList)"
   ]
  },
  {
   "cell_type": "code",
   "execution_count": 87,
   "metadata": {},
   "outputs": [],
   "source": [
    "import pandas as pd\n",
    "d = {'FileName':fileList,'FrameNumber':frameNumber, 'Timestamp':timeList}\n",
    "df = pd.DataFrame(d)"
   ]
  },
  {
   "cell_type": "code",
   "execution_count": 88,
   "metadata": {},
   "outputs": [
    {
     "data": {
      "text/plain": [
       "(3330, 3)"
      ]
     },
     "execution_count": 88,
     "metadata": {},
     "output_type": "execute_result"
    }
   ],
   "source": [
    "df.shape"
   ]
  },
  {
   "cell_type": "code",
   "execution_count": 91,
   "metadata": {},
   "outputs": [
    {
     "data": {
      "text/html": [
       "<div>\n",
       "<style scoped>\n",
       "    .dataframe tbody tr th:only-of-type {\n",
       "        vertical-align: middle;\n",
       "    }\n",
       "\n",
       "    .dataframe tbody tr th {\n",
       "        vertical-align: top;\n",
       "    }\n",
       "\n",
       "    .dataframe thead th {\n",
       "        text-align: right;\n",
       "    }\n",
       "</style>\n",
       "<table border=\"1\" class=\"dataframe\">\n",
       "  <thead>\n",
       "    <tr style=\"text-align: right;\">\n",
       "      <th></th>\n",
       "      <th>FileName</th>\n",
       "      <th>FrameNumber</th>\n",
       "      <th>Timestamp</th>\n",
       "    </tr>\n",
       "  </thead>\n",
       "  <tbody>\n",
       "    <tr>\n",
       "      <th>3300</th>\n",
       "      <td>C:\\Users\\Sathish Kasinathan\\Downloads\\output\\t...</td>\n",
       "      <td>3300</td>\n",
       "      <td>11:22:57</td>\n",
       "    </tr>\n",
       "    <tr>\n",
       "      <th>3301</th>\n",
       "      <td>C:\\Users\\Sathish Kasinathan\\Downloads\\output\\t...</td>\n",
       "      <td>3301</td>\n",
       "      <td>11:22:57</td>\n",
       "    </tr>\n",
       "    <tr>\n",
       "      <th>3302</th>\n",
       "      <td>C:\\Users\\Sathish Kasinathan\\Downloads\\output\\t...</td>\n",
       "      <td>3302</td>\n",
       "      <td>NaN</td>\n",
       "    </tr>\n",
       "    <tr>\n",
       "      <th>3303</th>\n",
       "      <td>C:\\Users\\Sathish Kasinathan\\Downloads\\output\\t...</td>\n",
       "      <td>3303</td>\n",
       "      <td>NaN</td>\n",
       "    </tr>\n",
       "    <tr>\n",
       "      <th>3304</th>\n",
       "      <td>C:\\Users\\Sathish Kasinathan\\Downloads\\output\\t...</td>\n",
       "      <td>3304</td>\n",
       "      <td>NaN</td>\n",
       "    </tr>\n",
       "    <tr>\n",
       "      <th>3305</th>\n",
       "      <td>C:\\Users\\Sathish Kasinathan\\Downloads\\output\\t...</td>\n",
       "      <td>3305</td>\n",
       "      <td>11:22:57</td>\n",
       "    </tr>\n",
       "    <tr>\n",
       "      <th>3306</th>\n",
       "      <td>C:\\Users\\Sathish Kasinathan\\Downloads\\output\\t...</td>\n",
       "      <td>3306</td>\n",
       "      <td>NaN</td>\n",
       "    </tr>\n",
       "    <tr>\n",
       "      <th>3307</th>\n",
       "      <td>C:\\Users\\Sathish Kasinathan\\Downloads\\output\\t...</td>\n",
       "      <td>3307</td>\n",
       "      <td>11:22:58</td>\n",
       "    </tr>\n",
       "    <tr>\n",
       "      <th>3308</th>\n",
       "      <td>C:\\Users\\Sathish Kasinathan\\Downloads\\output\\t...</td>\n",
       "      <td>3308</td>\n",
       "      <td>11:22:58</td>\n",
       "    </tr>\n",
       "    <tr>\n",
       "      <th>3309</th>\n",
       "      <td>C:\\Users\\Sathish Kasinathan\\Downloads\\output\\t...</td>\n",
       "      <td>3309</td>\n",
       "      <td>11:22:58</td>\n",
       "    </tr>\n",
       "    <tr>\n",
       "      <th>3310</th>\n",
       "      <td>C:\\Users\\Sathish Kasinathan\\Downloads\\output\\t...</td>\n",
       "      <td>3310</td>\n",
       "      <td>NaN</td>\n",
       "    </tr>\n",
       "    <tr>\n",
       "      <th>3311</th>\n",
       "      <td>C:\\Users\\Sathish Kasinathan\\Downloads\\output\\t...</td>\n",
       "      <td>3311</td>\n",
       "      <td>NaN</td>\n",
       "    </tr>\n",
       "    <tr>\n",
       "      <th>3312</th>\n",
       "      <td>C:\\Users\\Sathish Kasinathan\\Downloads\\output\\t...</td>\n",
       "      <td>3312</td>\n",
       "      <td>NaN</td>\n",
       "    </tr>\n",
       "    <tr>\n",
       "      <th>3313</th>\n",
       "      <td>C:\\Users\\Sathish Kasinathan\\Downloads\\output\\t...</td>\n",
       "      <td>3313</td>\n",
       "      <td>11:22:58</td>\n",
       "    </tr>\n",
       "    <tr>\n",
       "      <th>3314</th>\n",
       "      <td>C:\\Users\\Sathish Kasinathan\\Downloads\\output\\t...</td>\n",
       "      <td>3314</td>\n",
       "      <td>NaN</td>\n",
       "    </tr>\n",
       "    <tr>\n",
       "      <th>3315</th>\n",
       "      <td>C:\\Users\\Sathish Kasinathan\\Downloads\\output\\t...</td>\n",
       "      <td>3315</td>\n",
       "      <td>11:22:58</td>\n",
       "    </tr>\n",
       "    <tr>\n",
       "      <th>3316</th>\n",
       "      <td>C:\\Users\\Sathish Kasinathan\\Downloads\\output\\t...</td>\n",
       "      <td>3316</td>\n",
       "      <td>NaN</td>\n",
       "    </tr>\n",
       "    <tr>\n",
       "      <th>3317</th>\n",
       "      <td>C:\\Users\\Sathish Kasinathan\\Downloads\\output\\t...</td>\n",
       "      <td>3317</td>\n",
       "      <td>11:22:59</td>\n",
       "    </tr>\n",
       "    <tr>\n",
       "      <th>3318</th>\n",
       "      <td>C:\\Users\\Sathish Kasinathan\\Downloads\\output\\t...</td>\n",
       "      <td>3318</td>\n",
       "      <td>NaN</td>\n",
       "    </tr>\n",
       "    <tr>\n",
       "      <th>3319</th>\n",
       "      <td>C:\\Users\\Sathish Kasinathan\\Downloads\\output\\t...</td>\n",
       "      <td>3319</td>\n",
       "      <td>NaN</td>\n",
       "    </tr>\n",
       "    <tr>\n",
       "      <th>3320</th>\n",
       "      <td>C:\\Users\\Sathish Kasinathan\\Downloads\\output\\t...</td>\n",
       "      <td>3320</td>\n",
       "      <td>11:22:59</td>\n",
       "    </tr>\n",
       "    <tr>\n",
       "      <th>3321</th>\n",
       "      <td>C:\\Users\\Sathish Kasinathan\\Downloads\\output\\t...</td>\n",
       "      <td>3321</td>\n",
       "      <td>11:22:59</td>\n",
       "    </tr>\n",
       "    <tr>\n",
       "      <th>3322</th>\n",
       "      <td>C:\\Users\\Sathish Kasinathan\\Downloads\\output\\t...</td>\n",
       "      <td>3322</td>\n",
       "      <td>NaN</td>\n",
       "    </tr>\n",
       "    <tr>\n",
       "      <th>3323</th>\n",
       "      <td>C:\\Users\\Sathish Kasinathan\\Downloads\\output\\t...</td>\n",
       "      <td>3323</td>\n",
       "      <td>NaN</td>\n",
       "    </tr>\n",
       "    <tr>\n",
       "      <th>3324</th>\n",
       "      <td>C:\\Users\\Sathish Kasinathan\\Downloads\\output\\t...</td>\n",
       "      <td>3324</td>\n",
       "      <td>NaN</td>\n",
       "    </tr>\n",
       "    <tr>\n",
       "      <th>3325</th>\n",
       "      <td>C:\\Users\\Sathish Kasinathan\\Downloads\\output\\t...</td>\n",
       "      <td>3325</td>\n",
       "      <td>NaN</td>\n",
       "    </tr>\n",
       "    <tr>\n",
       "      <th>3326</th>\n",
       "      <td>C:\\Users\\Sathish Kasinathan\\Downloads\\output\\t...</td>\n",
       "      <td>3326</td>\n",
       "      <td>NaN</td>\n",
       "    </tr>\n",
       "    <tr>\n",
       "      <th>3327</th>\n",
       "      <td>C:\\Users\\Sathish Kasinathan\\Downloads\\output\\t...</td>\n",
       "      <td>3327</td>\n",
       "      <td>NaN</td>\n",
       "    </tr>\n",
       "    <tr>\n",
       "      <th>3328</th>\n",
       "      <td>C:\\Users\\Sathish Kasinathan\\Downloads\\output\\t...</td>\n",
       "      <td>3328</td>\n",
       "      <td>NaN</td>\n",
       "    </tr>\n",
       "    <tr>\n",
       "      <th>3329</th>\n",
       "      <td>C:\\Users\\Sathish Kasinathan\\Downloads\\output\\t...</td>\n",
       "      <td>3329</td>\n",
       "      <td>NaN</td>\n",
       "    </tr>\n",
       "  </tbody>\n",
       "</table>\n",
       "</div>"
      ],
      "text/plain": [
       "                                               FileName  FrameNumber Timestamp\n",
       "3300  C:\\Users\\Sathish Kasinathan\\Downloads\\output\\t...         3300  11:22:57\n",
       "3301  C:\\Users\\Sathish Kasinathan\\Downloads\\output\\t...         3301  11:22:57\n",
       "3302  C:\\Users\\Sathish Kasinathan\\Downloads\\output\\t...         3302       NaN\n",
       "3303  C:\\Users\\Sathish Kasinathan\\Downloads\\output\\t...         3303       NaN\n",
       "3304  C:\\Users\\Sathish Kasinathan\\Downloads\\output\\t...         3304       NaN\n",
       "3305  C:\\Users\\Sathish Kasinathan\\Downloads\\output\\t...         3305  11:22:57\n",
       "3306  C:\\Users\\Sathish Kasinathan\\Downloads\\output\\t...         3306       NaN\n",
       "3307  C:\\Users\\Sathish Kasinathan\\Downloads\\output\\t...         3307  11:22:58\n",
       "3308  C:\\Users\\Sathish Kasinathan\\Downloads\\output\\t...         3308  11:22:58\n",
       "3309  C:\\Users\\Sathish Kasinathan\\Downloads\\output\\t...         3309  11:22:58\n",
       "3310  C:\\Users\\Sathish Kasinathan\\Downloads\\output\\t...         3310       NaN\n",
       "3311  C:\\Users\\Sathish Kasinathan\\Downloads\\output\\t...         3311       NaN\n",
       "3312  C:\\Users\\Sathish Kasinathan\\Downloads\\output\\t...         3312       NaN\n",
       "3313  C:\\Users\\Sathish Kasinathan\\Downloads\\output\\t...         3313  11:22:58\n",
       "3314  C:\\Users\\Sathish Kasinathan\\Downloads\\output\\t...         3314       NaN\n",
       "3315  C:\\Users\\Sathish Kasinathan\\Downloads\\output\\t...         3315  11:22:58\n",
       "3316  C:\\Users\\Sathish Kasinathan\\Downloads\\output\\t...         3316       NaN\n",
       "3317  C:\\Users\\Sathish Kasinathan\\Downloads\\output\\t...         3317  11:22:59\n",
       "3318  C:\\Users\\Sathish Kasinathan\\Downloads\\output\\t...         3318       NaN\n",
       "3319  C:\\Users\\Sathish Kasinathan\\Downloads\\output\\t...         3319       NaN\n",
       "3320  C:\\Users\\Sathish Kasinathan\\Downloads\\output\\t...         3320  11:22:59\n",
       "3321  C:\\Users\\Sathish Kasinathan\\Downloads\\output\\t...         3321  11:22:59\n",
       "3322  C:\\Users\\Sathish Kasinathan\\Downloads\\output\\t...         3322       NaN\n",
       "3323  C:\\Users\\Sathish Kasinathan\\Downloads\\output\\t...         3323       NaN\n",
       "3324  C:\\Users\\Sathish Kasinathan\\Downloads\\output\\t...         3324       NaN\n",
       "3325  C:\\Users\\Sathish Kasinathan\\Downloads\\output\\t...         3325       NaN\n",
       "3326  C:\\Users\\Sathish Kasinathan\\Downloads\\output\\t...         3326       NaN\n",
       "3327  C:\\Users\\Sathish Kasinathan\\Downloads\\output\\t...         3327       NaN\n",
       "3328  C:\\Users\\Sathish Kasinathan\\Downloads\\output\\t...         3328       NaN\n",
       "3329  C:\\Users\\Sathish Kasinathan\\Downloads\\output\\t...         3329       NaN"
      ]
     },
     "execution_count": 91,
     "metadata": {},
     "output_type": "execute_result"
    }
   ],
   "source": [
    "df.tail(30)"
   ]
  },
  {
   "cell_type": "code",
   "execution_count": 94,
   "metadata": {},
   "outputs": [
    {
     "data": {
      "text/plain": [
       "0       emp\\0.jpg\n",
       "1       emp\\1.jpg\n",
       "2       emp\\2.jpg\n",
       "3       emp\\3.jpg\n",
       "4       emp\\4.jpg\n",
       "          ...    \n",
       "3325    \\3325.jpg\n",
       "3326    \\3326.jpg\n",
       "3327    \\3327.jpg\n",
       "3328    \\3328.jpg\n",
       "3329    \\3329.jpg\n",
       "Name: FileName, Length: 3330, dtype: object"
      ]
     },
     "execution_count": 94,
     "metadata": {},
     "output_type": "execute_result"
    }
   ],
   "source": [
    "df['FileName'].map(lambda x: str(x)[-9:])"
   ]
  },
  {
   "cell_type": "code",
   "execution_count": 95,
   "metadata": {},
   "outputs": [],
   "source": [
    "d = {'FileName':fileList,'FrameNumber':frameNumber, 'Timestamp':timeList}\n",
    "df1 = pd.DataFrame(d)"
   ]
  },
  {
   "cell_type": "code",
   "execution_count": 96,
   "metadata": {},
   "outputs": [],
   "source": [
    "df['FileName'] = df['FileName'].map(lambda x: str(x)[-9:])"
   ]
  },
  {
   "cell_type": "code",
   "execution_count": 99,
   "metadata": {},
   "outputs": [
    {
     "data": {
      "text/plain": [
       "(3330, 3)"
      ]
     },
     "execution_count": 99,
     "metadata": {},
     "output_type": "execute_result"
    }
   ],
   "source": [
    "df.shape"
   ]
  },
  {
   "cell_type": "code",
   "execution_count": 100,
   "metadata": {},
   "outputs": [],
   "source": [
    "df.to_csv('output/13thFrameTimeIdx.csv')"
   ]
  },
  {
   "cell_type": "code",
   "execution_count": null,
   "metadata": {},
   "outputs": [],
   "source": []
  }
 ],
 "metadata": {
  "kernelspec": {
   "display_name": "Python 3",
   "language": "python",
   "name": "python3"
  },
  "language_info": {
   "codemirror_mode": {
    "name": "ipython",
    "version": 3
   },
   "file_extension": ".py",
   "mimetype": "text/x-python",
   "name": "python",
   "nbconvert_exporter": "python",
   "pygments_lexer": "ipython3",
   "version": "3.8.3"
  }
 },
 "nbformat": 4,
 "nbformat_minor": 4
}
